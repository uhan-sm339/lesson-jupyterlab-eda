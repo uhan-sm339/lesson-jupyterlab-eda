{
 "cells": [
  {
   "cell_type": "markdown",
   "id": "3f0d00a9-4682-48bc-9c26-c1e49322741c",
   "metadata": {
    "editable": true,
    "slideshow": {
     "slide_type": ""
    },
    "tags": []
   },
   "source": [
    "**SM339 &#x25aa; Applied Statistics &#x25aa; Spring 2024 &#x25aa; Uhan**"
   ]
  },
  {
   "cell_type": "markdown",
   "id": "b8f9c192-7d58-4e8f-869e-2e2a0133429e",
   "metadata": {},
   "source": [
    "# Lesson 2. JupyterLab and Exploratory Data Analysis"
   ]
  },
  {
   "cell_type": "markdown",
   "id": "34b4cb5f-44ad-4375-b088-22e9998bd334",
   "metadata": {},
   "source": [
    "## What is JupyterLab?"
   ]
  },
  {
   "cell_type": "markdown",
   "id": "ed452c55-b82f-4ba7-b0ae-2a75836d044f",
   "metadata": {},
   "source": [
    "* [__JupyterLab__](https://jupyter.org/) is an interactive computational environment where you can combine code, text and graphs in __notebooks__\n",
    "\n",
    "* You're looking at a Jupyter notebook right now!\n",
    "\n",
    "* We'll be using JupyterLab with the [__R__](https://www.r-project.org/) programming language in this course"
   ]
  },
  {
   "cell_type": "markdown",
   "id": "5e28b289-1590-477d-8923-0dc09acd18c7",
   "metadata": {},
   "source": [
    "### Structure of a notebook document"
   ]
  },
  {
   "cell_type": "markdown",
   "id": "b9239c10-a15d-4da3-ab52-d9776d91ef3c",
   "metadata": {
    "editable": true,
    "slideshow": {
     "slide_type": ""
    },
    "tags": []
   },
   "source": [
    "* A notebook consists of a sequence of __cells__ of different types\n",
    "\n",
    "* We'll use two types of cells frequently:  \n",
    "    * code cells\n",
    "    * Markdown cells"
   ]
  },
  {
   "cell_type": "markdown",
   "id": "cdbb52e5-2d01-4699-9423-f7db10e9aa62",
   "metadata": {
    "editable": true,
    "slideshow": {
     "slide_type": ""
    },
    "tags": []
   },
   "source": [
    "* You can determine the type of a cell in the toolbar\n",
    "\n",
    "* You can run a cell by:\n",
    "    * clicking the <kbd><i class=\"fa fa-play\" aria-hidden=\"true\"></i></kbd> button in the toolbar\n",
    "    * selecting __Run &#8594; Run Selected Cells__ in the menu bar\n",
    "    * pressing <kbd>Shift</kbd>-<kbd>Enter</kbd>"
   ]
  },
  {
   "cell_type": "markdown",
   "id": "7e387ecd-58fa-40d8-a580-374262400529",
   "metadata": {
    "editable": true,
    "slideshow": {
     "slide_type": ""
    },
    "tags": []
   },
   "source": [
    "### Code cells"
   ]
  },
  {
   "cell_type": "markdown",
   "id": "05befcdc-c164-4a1c-ac48-2311aa12c2d3",
   "metadata": {
    "editable": true,
    "slideshow": {
     "slide_type": ""
    },
    "tags": []
   },
   "source": [
    "* In a __code cell__, you can edit and write R code\n",
    "\n",
    "* For example, we can print a simple message:"
   ]
  },
  {
   "cell_type": "code",
   "execution_count": null,
   "id": "57b7191f-b2d4-4fe6-8969-0b63ea1b5eb3",
   "metadata": {
    "editable": true,
    "slideshow": {
     "slide_type": ""
    },
    "tags": []
   },
   "outputs": [],
   "source": []
  },
  {
   "cell_type": "code",
   "execution_count": 1,
   "id": "89f16012-3441-4f94-b9e8-7f4d17e5d6bb",
   "metadata": {
    "editable": true,
    "slideshow": {
     "slide_type": ""
    },
    "tags": [
     "solution"
    ]
   },
   "outputs": [
    {
     "name": "stdout",
     "output_type": "stream",
     "text": [
      "[1] \"Hello, world\"\n"
     ]
    }
   ],
   "source": [
    "# Solution\n",
    "print(\"Hello, world\")"
   ]
  },
  {
   "cell_type": "markdown",
   "id": "8046a488-7f6f-4e5e-b044-bda7322be530",
   "metadata": {
    "editable": true,
    "slideshow": {
     "slide_type": ""
    },
    "tags": []
   },
   "source": [
    "* We'll get more involved with R shortly\n",
    "\n",
    "\n",
    "* Note that a code cell has \n",
    "    * an __input__ section containing your code\n",
    "    * an __output__ section after executing the cell"
   ]
  },
  {
   "cell_type": "markdown",
   "id": "b50af5ba-920c-4d59-8e29-9e0bffac5314",
   "metadata": {
    "editable": true,
    "slideshow": {
     "slide_type": ""
    },
    "tags": []
   },
   "source": [
    "### Markdown cells"
   ]
  },
  {
   "cell_type": "markdown",
   "id": "6e80a37f-f43a-4369-bc56-33bb1f9a7e7e",
   "metadata": {
    "editable": true,
    "slideshow": {
     "slide_type": ""
    },
    "tags": []
   },
   "source": [
    "* In a __Markdown cell__, you can enter text to write notes about your code and document your workflow\n",
    "\n",
    "* For example, this cell is a Markdown cell\n",
    "\n",
    "* The __Markdown__ language is a popular way to provide formatting (e.g. bold, italics, lists) to plain text\n",
    "    * Use Google to find documentation and tutorials. [Here's a pretty good cheat sheet.](https://github.com/adam-p/markdown-here/wiki/Markdown-Cheatsheet)"
   ]
  },
  {
   "cell_type": "markdown",
   "id": "7f311035-e971-4f83-b03c-bc3e91898e61",
   "metadata": {
    "editable": true,
    "slideshow": {
     "slide_type": ""
    },
    "tags": []
   },
   "source": [
    "* For now, here are a few basic, useful Markdown constructs:\n",
    "\n",
    "```\n",
    "You can format text as italic with *asterisks* or _underscores_.\n",
    "\n",
    "You can format text as bold with **double asterisks** or __double underscores__.\n",
    "\n",
    "To write an bulleted list, use *, -, or + as bullets, like this:\n",
    "\n",
    "* One\n",
    "* Two\n",
    "* Three\n",
    "```\n",
    "\n",
    "\n",
    "* To edit a Markdown cell, double-click it \n",
    "\n",
    "\n",
    "* When you're done editing it, run the cell\n",
    "\n",
    "\n",
    "* Try it in the cell below:"
   ]
  },
  {
   "cell_type": "markdown",
   "id": "051aa863-9af4-496c-b855-3bc7fde4a00c",
   "metadata": {
    "editable": true,
    "slideshow": {
     "slide_type": ""
    },
    "tags": []
   },
   "source": [
    "*Double-click to edit this cell. Try out Markdown here.*"
   ]
  },
  {
   "cell_type": "markdown",
   "id": "fe079759-1316-458f-a4b5-409f3488cd2a",
   "metadata": {
    "editable": true,
    "slideshow": {
     "slide_type": ""
    },
    "tags": []
   },
   "source": [
    "### Manipulating cells"
   ]
  },
  {
   "cell_type": "markdown",
   "id": "93621fea-664c-49de-a15c-863401e23b53",
   "metadata": {
    "editable": true,
    "slideshow": {
     "slide_type": ""
    },
    "tags": []
   },
   "source": [
    "* You can insert a new cell by clicking the <kbd>+</kbd> button in the toolbar\n",
    "\n",
    "\n",
    "* You can copy and paste cells using the __Edit__ menu\n",
    "\n",
    "\n",
    "* You can also split, merge, move, and delete cells using the __Edit__ menu\n",
    "\n",
    "\n",
    "* You can also move cells around with your mouse: click on the left part of a cell and drag it to where you want it"
   ]
  },
  {
   "cell_type": "markdown",
   "id": "2d5b6be6-a0dc-4c63-b5a2-b467daf67465",
   "metadata": {
    "editable": true,
    "slideshow": {
     "slide_type": ""
    },
    "tags": []
   },
   "source": [
    "### Saving your notebook"
   ]
  },
  {
   "cell_type": "markdown",
   "id": "a2303662-fabd-47ae-9539-75cdbb9bb3a7",
   "metadata": {
    "editable": true,
    "slideshow": {
     "slide_type": ""
    },
    "tags": []
   },
   "source": [
    "* JupyterLab autosaves your notebook every few minutes\n",
    "    * Check __Settings &#8594; Autosave Documents__ to make sure this setting is turned on"
   ]
  },
  {
   "cell_type": "markdown",
   "id": "99b3191f-be08-4d8a-9e17-023aab0f3d2d",
   "metadata": {
    "editable": true,
    "slideshow": {
     "slide_type": ""
    },
    "tags": []
   },
   "source": [
    "* To manually save, click the <kbd><i class=\"fa fa-floppy-o\"></i></kbd> icon, or select __File &#8594; Save Notebook__\n",
    "\n",
    "* When you're done, you can shut down JupyterLab by selecting __File &#8594; Shut Down__"
   ]
  },
  {
   "cell_type": "markdown",
   "id": "91baa5b3-b831-4f2f-95d4-1d9a6ba8e80b",
   "metadata": {
    "editable": true,
    "slideshow": {
     "slide_type": ""
    },
    "tags": []
   },
   "source": [
    "<hr style=\"border-top: 2px solid gray; margin-top: 12px; margin-bottom: 1px\"></hr>"
   ]
  },
  {
   "cell_type": "markdown",
   "id": "59e0c934-277c-40e2-b13d-4d69242f5f37",
   "metadata": {
    "editable": true,
    "slideshow": {
     "slide_type": ""
    },
    "tags": []
   },
   "source": [
    "## Random variables and distributions in R"
   ]
  },
  {
   "cell_type": "markdown",
   "id": "fa4b47e2-a9ba-48a4-86a5-7c95c97c67a9",
   "metadata": {
    "editable": true,
    "slideshow": {
     "slide_type": ""
    },
    "tags": []
   },
   "source": [
    "* Recall from the previous lesson...\n",
    "\n",
    "* Let $X$ be a continuous random variable with some distribution\n",
    "\n",
    "* The __cdf__ of $X$ is $F_X(x) = P(X \\le x)$\n",
    "\n",
    "* The __pdf__ of $X$ is $f_X(x) = \\dfrac{d}{dx} F(x)$\n",
    "\n",
    "* The __$p$-quantile__ of $X$ is the value $a$ such that $F_X(a) = P(X \\le a) = p$\n",
    "\n",
    "* R has functions to compute the cdf, pdf, and quantiles for many common (and uncommon) distributions"
   ]
  },
  {
   "cell_type": "markdown",
   "id": "5c8c7f09-1251-4fda-be17-af668e00128e",
   "metadata": {
    "editable": true,
    "slideshow": {
     "slide_type": ""
    },
    "tags": []
   },
   "source": [
    "* Suppose $X \\sim N(2, 8)$\n",
    "    * i.e., a Normal distribution with mean $\\mu = 2$ and variance $\\sigma^2 = 8$"
   ]
  },
  {
   "cell_type": "markdown",
   "id": "02730b34-9707-43af-a026-d82ca6657632",
   "metadata": {
    "editable": true,
    "slideshow": {
     "slide_type": ""
    },
    "tags": []
   },
   "source": [
    "* We can find $F_X(3) = P(X \\le 3)$ in R like this:"
   ]
  },
  {
   "cell_type": "code",
   "execution_count": null,
   "id": "88f476c3-4ec1-4993-a4e7-828f17cd1fe7",
   "metadata": {
    "editable": true,
    "slideshow": {
     "slide_type": ""
    },
    "tags": []
   },
   "outputs": [],
   "source": []
  },
  {
   "cell_type": "code",
   "execution_count": 2,
   "id": "86124fea-996c-4008-a642-74353c77f86d",
   "metadata": {
    "editable": true,
    "slideshow": {
     "slide_type": ""
    },
    "tags": [
     "solution"
    ]
   },
   "outputs": [
    {
     "data": {
      "text/html": [
       "0.638163195084118"
      ],
      "text/latex": [
       "0.638163195084118"
      ],
      "text/markdown": [
       "0.638163195084118"
      ],
      "text/plain": [
       "[1] 0.6381632"
      ]
     },
     "metadata": {},
     "output_type": "display_data"
    }
   ],
   "source": [
    "# Solution\n",
    "pnorm(3, mean = 2, sd = sqrt(8))"
   ]
  },
  {
   "cell_type": "markdown",
   "id": "b55d764f-b2db-477c-b524-1d8fcc76343b",
   "metadata": {
    "editable": true,
    "slideshow": {
     "slide_type": ""
    },
    "tags": []
   },
   "source": [
    "* We can find $f_X(3)$, the pdf value at 3 for $X \\sim N(2, 8)$, like this:"
   ]
  },
  {
   "cell_type": "code",
   "execution_count": null,
   "id": "71dd45ac-d910-49c9-bdb0-40aa322fcbea",
   "metadata": {
    "editable": true,
    "slideshow": {
     "slide_type": ""
    },
    "tags": []
   },
   "outputs": [],
   "source": []
  },
  {
   "cell_type": "code",
   "execution_count": 3,
   "id": "cfa5e116-20dd-4ea5-b321-a1bea9ea6e28",
   "metadata": {
    "editable": true,
    "raw_mimetype": "",
    "slideshow": {
     "slide_type": ""
    },
    "tags": [
     "solution"
    ]
   },
   "outputs": [
    {
     "data": {
      "text/html": [
       "0.132501766172014"
      ],
      "text/latex": [
       "0.132501766172014"
      ],
      "text/markdown": [
       "0.132501766172014"
      ],
      "text/plain": [
       "[1] 0.1325018"
      ]
     },
     "metadata": {},
     "output_type": "display_data"
    }
   ],
   "source": [
    "# Solution\n",
    "dnorm(3, mean = 2, sd = sqrt(8))"
   ]
  },
  {
   "cell_type": "markdown",
   "id": "a2ff18ad-8b27-4e8b-8fb1-009a533e02aa",
   "metadata": {
    "editable": true,
    "slideshow": {
     "slide_type": ""
    },
    "tags": []
   },
   "source": [
    "* We can also find the 0.75-quantile of $X \\sim N(2, 8)$ like this: "
   ]
  },
  {
   "cell_type": "code",
   "execution_count": null,
   "id": "5944c163-4fc7-4f81-a5d3-d548408d97c9",
   "metadata": {},
   "outputs": [],
   "source": []
  },
  {
   "cell_type": "code",
   "execution_count": 4,
   "id": "363a8d88-9e21-4b68-8705-fab2f6e9db21",
   "metadata": {
    "editable": true,
    "slideshow": {
     "slide_type": ""
    },
    "tags": [
     "solution"
    ]
   },
   "outputs": [
    {
     "data": {
      "text/html": [
       "3.90774510481788"
      ],
      "text/latex": [
       "3.90774510481788"
      ],
      "text/markdown": [
       "3.90774510481788"
      ],
      "text/plain": [
       "[1] 3.907745"
      ]
     },
     "metadata": {},
     "output_type": "display_data"
    }
   ],
   "source": [
    "# Solution\n",
    "qnorm(0.75, mean = 2, sd = sqrt(8))"
   ]
  },
  {
   "cell_type": "markdown",
   "id": "f4939175-a101-45c5-a338-e899447d508f",
   "metadata": {
    "editable": true,
    "slideshow": {
     "slide_type": ""
    },
    "tags": []
   },
   "source": [
    "- In general in R:\n",
    "\n",
    "    - cdf functions start with `p`: e.g., `pnorm`, `pt`, `punif`\n",
    "    \n",
    "    - pdf functions start with `d`: e.g., `dnorm`, `dt`, `dunif`\n",
    "    \n",
    "    - quantile functions start with `q`: e.g., `qnorm`, `qt`, `qunif`"
   ]
  },
  {
   "cell_type": "markdown",
   "id": "550b7615-229a-4cf2-a9fd-b90a66ceab1a",
   "metadata": {
    "editable": true,
    "slideshow": {
     "slide_type": ""
    },
    "tags": []
   },
   "source": [
    "<hr style=\"border-top: 2px solid gray; margin-top: 12px; margin-bottom: 1px\"></hr>"
   ]
  },
  {
   "cell_type": "markdown",
   "id": "a7045d01-4e18-45c9-b852-1e7745cb8c68",
   "metadata": {},
   "source": [
    "## An introduction to exploratory data analysis"
   ]
  },
  {
   "cell_type": "markdown",
   "id": "a6d8ea20-b279-41de-a580-2bf0a488f9b2",
   "metadata": {
    "editable": true,
    "slideshow": {
     "slide_type": ""
    },
    "tags": []
   },
   "source": [
    "* Before we do formal analysis, we want a big picture idea of what's going on with the data\n",
    "\n",
    "* This is called __exploratory data analysis__\n",
    "\n",
    "* For now, we will focus on one variable at a time"
   ]
  },
  {
   "cell_type": "markdown",
   "id": "038c6e3c-2e93-4a9e-a82b-178ff06a9855",
   "metadata": {
    "editable": true,
    "slideshow": {
     "slide_type": ""
    },
    "tags": []
   },
   "source": [
    "### Reading data into R"
   ]
  },
  {
   "cell_type": "markdown",
   "id": "13db1ad6-b5f3-46bc-9bd2-a50e6160d2f1",
   "metadata": {
    "editable": true,
    "slideshow": {
     "slide_type": ""
    },
    "tags": []
   },
   "source": [
    "* R can read data in a variety of formats\n",
    "\n",
    "* One of the most common formats for tabular data is the __CSV file__\n",
    "\n",
    "* CSV stands for __comma-separated values__\n",
    "\n",
    "* In the same folder as this notebook, there is a CSV file `data/Michelson.csv`\n",
    "\n",
    "* Let's see what this data looks like, using JupyterLab's file viewer..."
   ]
  },
  {
   "cell_type": "markdown",
   "id": "71b6d5e8-29a3-4710-b6f2-4f1a3d56080c",
   "metadata": {
    "editable": true,
    "slideshow": {
     "slide_type": ""
    },
    "tags": []
   },
   "source": [
    "* An R __data frame__ is a two-dimensional table, with rows and columns\n",
    "\n",
    "* Sometimes we refer to the columns as _variables_ and the rows as *observations*, since tabular data is commonly set up this way\n",
    "\n",
    "* We can read the data in `data/Michelson.csv` into a R data frame (a.k.a. table) called `Michelson` like this: "
   ]
  },
  {
   "cell_type": "code",
   "execution_count": null,
   "id": "f12ee63f-af0b-4cfa-95ee-583b88f147a2",
   "metadata": {
    "editable": true,
    "slideshow": {
     "slide_type": ""
    },
    "tags": []
   },
   "outputs": [],
   "source": []
  },
  {
   "cell_type": "code",
   "execution_count": 5,
   "id": "4f38277d-dcd0-438b-b591-70dcb57154ca",
   "metadata": {
    "editable": true,
    "slideshow": {
     "slide_type": ""
    },
    "tags": [
     "solution"
    ]
   },
   "outputs": [],
   "source": [
    "# Solution\n",
    "Michelson <- read.table('data/Michelson.csv', header=TRUE, sep=',')"
   ]
  },
  {
   "cell_type": "markdown",
   "id": "db0bdd2d-2d5e-4366-8c13-1ca489d10711",
   "metadata": {
    "editable": true,
    "slideshow": {
     "slide_type": ""
    },
    "tags": []
   },
   "source": [
    "* We can use the `head()` function to examine the first few rows of `Michelson`: "
   ]
  },
  {
   "cell_type": "code",
   "execution_count": null,
   "id": "c1a240f4-6d71-4703-ac27-f727dd2ddd60",
   "metadata": {
    "editable": true,
    "slideshow": {
     "slide_type": ""
    },
    "tags": []
   },
   "outputs": [],
   "source": []
  },
  {
   "cell_type": "code",
   "execution_count": 6,
   "id": "56c6e82e-8543-47db-bcad-55443d932f65",
   "metadata": {
    "editable": true,
    "slideshow": {
     "slide_type": ""
    },
    "tags": [
     "solution"
    ]
   },
   "outputs": [
    {
     "data": {
      "text/html": [
       "<table class=\"dataframe\">\n",
       "<caption>A data.frame: 6 × 5</caption>\n",
       "<thead>\n",
       "\t<tr><th></th><th scope=col>Date</th><th scope=col>Image</th><th scope=col>Temperature</th><th scope=col>Velocity</th><th scope=col>Time</th></tr>\n",
       "\t<tr><th></th><th scope=col>&lt;chr&gt;</th><th scope=col>&lt;chr&gt;</th><th scope=col>&lt;int&gt;</th><th scope=col>&lt;int&gt;</th><th scope=col>&lt;chr&gt;</th></tr>\n",
       "</thead>\n",
       "<tbody>\n",
       "\t<tr><th scope=row>1</th><td>7-Jun</td><td>fair</td><td>72</td><td>299740</td><td>pm</td></tr>\n",
       "\t<tr><th scope=row>2</th><td>7-Jun</td><td>fair</td><td>72</td><td>299900</td><td>pm</td></tr>\n",
       "\t<tr><th scope=row>3</th><td>7-Jun</td><td>fair</td><td>72</td><td>300070</td><td>pm</td></tr>\n",
       "\t<tr><th scope=row>4</th><td>7-Jun</td><td>fair</td><td>72</td><td>299930</td><td>pm</td></tr>\n",
       "\t<tr><th scope=row>5</th><td>7-Jun</td><td>fair</td><td>72</td><td>299850</td><td>pm</td></tr>\n",
       "\t<tr><th scope=row>6</th><td>9-Jun</td><td>good</td><td>83</td><td>299950</td><td>pm</td></tr>\n",
       "</tbody>\n",
       "</table>\n"
      ],
      "text/latex": [
       "A data.frame: 6 × 5\n",
       "\\begin{tabular}{r|lllll}\n",
       "  & Date & Image & Temperature & Velocity & Time\\\\\n",
       "  & <chr> & <chr> & <int> & <int> & <chr>\\\\\n",
       "\\hline\n",
       "\t1 & 7-Jun & fair & 72 & 299740 & pm\\\\\n",
       "\t2 & 7-Jun & fair & 72 & 299900 & pm\\\\\n",
       "\t3 & 7-Jun & fair & 72 & 300070 & pm\\\\\n",
       "\t4 & 7-Jun & fair & 72 & 299930 & pm\\\\\n",
       "\t5 & 7-Jun & fair & 72 & 299850 & pm\\\\\n",
       "\t6 & 9-Jun & good & 83 & 299950 & pm\\\\\n",
       "\\end{tabular}\n"
      ],
      "text/markdown": [
       "\n",
       "A data.frame: 6 × 5\n",
       "\n",
       "| <!--/--> | Date &lt;chr&gt; | Image &lt;chr&gt; | Temperature &lt;int&gt; | Velocity &lt;int&gt; | Time &lt;chr&gt; |\n",
       "|---|---|---|---|---|---|\n",
       "| 1 | 7-Jun | fair | 72 | 299740 | pm |\n",
       "| 2 | 7-Jun | fair | 72 | 299900 | pm |\n",
       "| 3 | 7-Jun | fair | 72 | 300070 | pm |\n",
       "| 4 | 7-Jun | fair | 72 | 299930 | pm |\n",
       "| 5 | 7-Jun | fair | 72 | 299850 | pm |\n",
       "| 6 | 9-Jun | good | 83 | 299950 | pm |\n",
       "\n"
      ],
      "text/plain": [
       "  Date  Image Temperature Velocity Time\n",
       "1 7-Jun fair  72          299740   pm  \n",
       "2 7-Jun fair  72          299900   pm  \n",
       "3 7-Jun fair  72          300070   pm  \n",
       "4 7-Jun fair  72          299930   pm  \n",
       "5 7-Jun fair  72          299850   pm  \n",
       "6 9-Jun good  83          299950   pm  "
      ]
     },
     "metadata": {},
     "output_type": "display_data"
    }
   ],
   "source": [
    "# Solution\n",
    "head(Michelson)"
   ]
  },
  {
   "cell_type": "markdown",
   "id": "a94aa7ef-286a-4f6d-a393-dc1fe8e3ddcf",
   "metadata": {
    "editable": true,
    "slideshow": {
     "slide_type": ""
    },
    "tags": []
   },
   "source": [
    "* We can access the `Velocity` variable of the `Michelson` data frame like this:"
   ]
  },
  {
   "cell_type": "code",
   "execution_count": null,
   "id": "e82895c0-d98f-4826-9f60-8323833605e3",
   "metadata": {
    "editable": true,
    "slideshow": {
     "slide_type": ""
    },
    "tags": []
   },
   "outputs": [],
   "source": []
  },
  {
   "cell_type": "code",
   "execution_count": 7,
   "id": "cf30bf5d-df14-48cd-92e8-b691bc041271",
   "metadata": {
    "editable": true,
    "scrolled": true,
    "slideshow": {
     "slide_type": ""
    },
    "tags": [
     "solution"
    ]
   },
   "outputs": [
    {
     "data": {
      "text/html": [
       "<style>\n",
       ".list-inline {list-style: none; margin:0; padding: 0}\n",
       ".list-inline>li {display: inline-block}\n",
       ".list-inline>li:not(:last-child)::after {content: \"\\00b7\"; padding: 0 .5ex}\n",
       "</style>\n",
       "<ol class=list-inline><li>299740</li><li>299900</li><li>300070</li><li>299930</li><li>299850</li><li>299950</li><li>299980</li><li>299980</li><li>299880</li><li>300000</li><li>299980</li><li>299930</li><li>299650</li><li>299760</li><li>299810</li><li>300000</li><li>300000</li><li>299960</li><li>299960</li><li>299960</li><li>299940</li><li>299960</li><li>299940</li><li>299880</li><li>299800</li><li>299850</li><li>299880</li><li>299900</li><li>299840</li><li>299830</li><li>299790</li><li>299810</li><li>299880</li><li>299880</li><li>299830</li><li>299800</li><li>299790</li><li>299760</li><li>299800</li><li>299880</li><li>299880</li><li>299880</li><li>299860</li><li>299720</li><li>299720</li><li>299620</li><li>299860</li><li>299979</li><li>299950</li><li>299880</li><li>299910</li><li>299850</li><li>299879</li><li>299640</li><li>299840</li><li>299850</li><li>299840</li><li>299840</li><li>299840</li><li>299890</li><li>299810</li><li>299810</li><li>299820</li><li>299800</li><li>299770</li><li>299760</li><li>299740</li><li>299750</li><li>299760</li><li>299910</li><li>299920</li><li>299890</li><li>299860</li><li>299880</li><li>299720</li><li>299840</li><li>299850</li><li>299850</li><li>299780</li><li>299890</li><li>299840</li><li>299780</li><li>299810</li><li>299760</li><li>299810</li><li>299790</li><li>299810</li><li>299820</li><li>299850</li><li>299870</li><li>299870</li><li>299810</li><li>299740</li><li>299810</li><li>299940</li><li>299950</li><li>299800</li><li>299810</li><li>299870</li></ol>\n"
      ],
      "text/latex": [
       "\\begin{enumerate*}\n",
       "\\item 299740\n",
       "\\item 299900\n",
       "\\item 300070\n",
       "\\item 299930\n",
       "\\item 299850\n",
       "\\item 299950\n",
       "\\item 299980\n",
       "\\item 299980\n",
       "\\item 299880\n",
       "\\item 300000\n",
       "\\item 299980\n",
       "\\item 299930\n",
       "\\item 299650\n",
       "\\item 299760\n",
       "\\item 299810\n",
       "\\item 300000\n",
       "\\item 300000\n",
       "\\item 299960\n",
       "\\item 299960\n",
       "\\item 299960\n",
       "\\item 299940\n",
       "\\item 299960\n",
       "\\item 299940\n",
       "\\item 299880\n",
       "\\item 299800\n",
       "\\item 299850\n",
       "\\item 299880\n",
       "\\item 299900\n",
       "\\item 299840\n",
       "\\item 299830\n",
       "\\item 299790\n",
       "\\item 299810\n",
       "\\item 299880\n",
       "\\item 299880\n",
       "\\item 299830\n",
       "\\item 299800\n",
       "\\item 299790\n",
       "\\item 299760\n",
       "\\item 299800\n",
       "\\item 299880\n",
       "\\item 299880\n",
       "\\item 299880\n",
       "\\item 299860\n",
       "\\item 299720\n",
       "\\item 299720\n",
       "\\item 299620\n",
       "\\item 299860\n",
       "\\item 299979\n",
       "\\item 299950\n",
       "\\item 299880\n",
       "\\item 299910\n",
       "\\item 299850\n",
       "\\item 299879\n",
       "\\item 299640\n",
       "\\item 299840\n",
       "\\item 299850\n",
       "\\item 299840\n",
       "\\item 299840\n",
       "\\item 299840\n",
       "\\item 299890\n",
       "\\item 299810\n",
       "\\item 299810\n",
       "\\item 299820\n",
       "\\item 299800\n",
       "\\item 299770\n",
       "\\item 299760\n",
       "\\item 299740\n",
       "\\item 299750\n",
       "\\item 299760\n",
       "\\item 299910\n",
       "\\item 299920\n",
       "\\item 299890\n",
       "\\item 299860\n",
       "\\item 299880\n",
       "\\item 299720\n",
       "\\item 299840\n",
       "\\item 299850\n",
       "\\item 299850\n",
       "\\item 299780\n",
       "\\item 299890\n",
       "\\item 299840\n",
       "\\item 299780\n",
       "\\item 299810\n",
       "\\item 299760\n",
       "\\item 299810\n",
       "\\item 299790\n",
       "\\item 299810\n",
       "\\item 299820\n",
       "\\item 299850\n",
       "\\item 299870\n",
       "\\item 299870\n",
       "\\item 299810\n",
       "\\item 299740\n",
       "\\item 299810\n",
       "\\item 299940\n",
       "\\item 299950\n",
       "\\item 299800\n",
       "\\item 299810\n",
       "\\item 299870\n",
       "\\end{enumerate*}\n"
      ],
      "text/markdown": [
       "1. 299740\n",
       "2. 299900\n",
       "3. 300070\n",
       "4. 299930\n",
       "5. 299850\n",
       "6. 299950\n",
       "7. 299980\n",
       "8. 299980\n",
       "9. 299880\n",
       "10. 300000\n",
       "11. 299980\n",
       "12. 299930\n",
       "13. 299650\n",
       "14. 299760\n",
       "15. 299810\n",
       "16. 300000\n",
       "17. 300000\n",
       "18. 299960\n",
       "19. 299960\n",
       "20. 299960\n",
       "21. 299940\n",
       "22. 299960\n",
       "23. 299940\n",
       "24. 299880\n",
       "25. 299800\n",
       "26. 299850\n",
       "27. 299880\n",
       "28. 299900\n",
       "29. 299840\n",
       "30. 299830\n",
       "31. 299790\n",
       "32. 299810\n",
       "33. 299880\n",
       "34. 299880\n",
       "35. 299830\n",
       "36. 299800\n",
       "37. 299790\n",
       "38. 299760\n",
       "39. 299800\n",
       "40. 299880\n",
       "41. 299880\n",
       "42. 299880\n",
       "43. 299860\n",
       "44. 299720\n",
       "45. 299720\n",
       "46. 299620\n",
       "47. 299860\n",
       "48. 299979\n",
       "49. 299950\n",
       "50. 299880\n",
       "51. 299910\n",
       "52. 299850\n",
       "53. 299879\n",
       "54. 299640\n",
       "55. 299840\n",
       "56. 299850\n",
       "57. 299840\n",
       "58. 299840\n",
       "59. 299840\n",
       "60. 299890\n",
       "61. 299810\n",
       "62. 299810\n",
       "63. 299820\n",
       "64. 299800\n",
       "65. 299770\n",
       "66. 299760\n",
       "67. 299740\n",
       "68. 299750\n",
       "69. 299760\n",
       "70. 299910\n",
       "71. 299920\n",
       "72. 299890\n",
       "73. 299860\n",
       "74. 299880\n",
       "75. 299720\n",
       "76. 299840\n",
       "77. 299850\n",
       "78. 299850\n",
       "79. 299780\n",
       "80. 299890\n",
       "81. 299840\n",
       "82. 299780\n",
       "83. 299810\n",
       "84. 299760\n",
       "85. 299810\n",
       "86. 299790\n",
       "87. 299810\n",
       "88. 299820\n",
       "89. 299850\n",
       "90. 299870\n",
       "91. 299870\n",
       "92. 299810\n",
       "93. 299740\n",
       "94. 299810\n",
       "95. 299940\n",
       "96. 299950\n",
       "97. 299800\n",
       "98. 299810\n",
       "99. 299870\n",
       "\n",
       "\n"
      ],
      "text/plain": [
       " [1] 299740 299900 300070 299930 299850 299950 299980 299980 299880 300000\n",
       "[11] 299980 299930 299650 299760 299810 300000 300000 299960 299960 299960\n",
       "[21] 299940 299960 299940 299880 299800 299850 299880 299900 299840 299830\n",
       "[31] 299790 299810 299880 299880 299830 299800 299790 299760 299800 299880\n",
       "[41] 299880 299880 299860 299720 299720 299620 299860 299979 299950 299880\n",
       "[51] 299910 299850 299879 299640 299840 299850 299840 299840 299840 299890\n",
       "[61] 299810 299810 299820 299800 299770 299760 299740 299750 299760 299910\n",
       "[71] 299920 299890 299860 299880 299720 299840 299850 299850 299780 299890\n",
       "[81] 299840 299780 299810 299760 299810 299790 299810 299820 299850 299870\n",
       "[91] 299870 299810 299740 299810 299940 299950 299800 299810 299870"
      ]
     },
     "metadata": {},
     "output_type": "display_data"
    }
   ],
   "source": [
    "# Solution\n",
    "Michelson$Velocity"
   ]
  },
  {
   "cell_type": "markdown",
   "id": "f420a28d-0f29-47b1-bc3d-78a5e8fa219e",
   "metadata": {
    "editable": true,
    "slideshow": {
     "slide_type": ""
    },
    "tags": []
   },
   "source": [
    "### The five-number summary"
   ]
  },
  {
   "cell_type": "markdown",
   "id": "64cba4e4-a6b9-47f6-acfc-97feea60b773",
   "metadata": {
    "editable": true,
    "slideshow": {
     "slide_type": ""
    },
    "tags": []
   },
   "source": [
    "* The __five-number summary__ of a variable gives us a quick snapshot of how the observations are distributed:\n",
    "\n",
    "    1. __minimum__: the lowest data value\n",
    "    \n",
    "    2. __1st quartile (Q1)__: 25\\% of the data lie below this data value\n",
    "    \n",
    "    3. __median__: the \"middle\" data value; also the 2nd quartile\n",
    "    \n",
    "    4. __3rd quartile (Q3)__: 75\\% of the data lie below this data value\n",
    "    \n",
    "    5. __maximum__: the largest data value"
   ]
  },
  {
   "cell_type": "markdown",
   "id": "77a9a68b-e302-4317-82e4-f34e2688aaa7",
   "metadata": {
    "editable": true,
    "slideshow": {
     "slide_type": ""
    },
    "tags": []
   },
   "source": [
    "* In R, we can get a five-number summary of the `Velocity` variable in the `Michelson` data frame like this:"
   ]
  },
  {
   "cell_type": "code",
   "execution_count": null,
   "id": "fa62d047-a7c8-40af-8692-bb46be91000d",
   "metadata": {
    "editable": true,
    "slideshow": {
     "slide_type": ""
    },
    "tags": []
   },
   "outputs": [],
   "source": []
  },
  {
   "cell_type": "code",
   "execution_count": 8,
   "id": "646cb29c-4374-437a-b5bb-2fa056ddb39a",
   "metadata": {
    "editable": true,
    "slideshow": {
     "slide_type": ""
    },
    "tags": [
     "solution"
    ]
   },
   "outputs": [
    {
     "data": {
      "text/plain": [
       "   Min. 1st Qu.  Median    Mean 3rd Qu.    Max. \n",
       " 299620  299800  299850  299851  299895  300070 "
      ]
     },
     "metadata": {},
     "output_type": "display_data"
    }
   ],
   "source": [
    "# Solution\n",
    "summary(Michelson$Velocity)"
   ]
  },
  {
   "cell_type": "markdown",
   "id": "d67bf5ec-8bab-4373-8893-89105ab1d22d",
   "metadata": {
    "editable": true,
    "slideshow": {
     "slide_type": ""
    },
    "tags": []
   },
   "source": [
    "* We can also get these values with their individual functions in R: "
   ]
  },
  {
   "cell_type": "code",
   "execution_count": null,
   "id": "3810188a-6348-4463-80d1-14fbf2acf9a8",
   "metadata": {
    "editable": true,
    "slideshow": {
     "slide_type": ""
    },
    "tags": []
   },
   "outputs": [],
   "source": []
  },
  {
   "cell_type": "code",
   "execution_count": 9,
   "id": "3f77b630-f2cc-412f-91a7-a7f0b6d18bd4",
   "metadata": {
    "editable": true,
    "slideshow": {
     "slide_type": ""
    },
    "tags": [
     "solution"
    ]
   },
   "outputs": [
    {
     "data": {
      "text/html": [
       "299620"
      ],
      "text/latex": [
       "299620"
      ],
      "text/markdown": [
       "299620"
      ],
      "text/plain": [
       "[1] 299620"
      ]
     },
     "metadata": {},
     "output_type": "display_data"
    },
    {
     "data": {
      "text/html": [
       "<strong>25%:</strong> 299800"
      ],
      "text/latex": [
       "\\textbf{25\\textbackslash{}\\%:} 299800"
      ],
      "text/markdown": [
       "**25%:** 299800"
      ],
      "text/plain": [
       "   25% \n",
       "299800 "
      ]
     },
     "metadata": {},
     "output_type": "display_data"
    },
    {
     "data": {
      "text/html": [
       "299850"
      ],
      "text/latex": [
       "299850"
      ],
      "text/markdown": [
       "299850"
      ],
      "text/plain": [
       "[1] 299850"
      ]
     },
     "metadata": {},
     "output_type": "display_data"
    },
    {
     "data": {
      "text/html": [
       "<strong>75%:</strong> 299895"
      ],
      "text/latex": [
       "\\textbf{75\\textbackslash{}\\%:} 299895"
      ],
      "text/markdown": [
       "**75%:** 299895"
      ],
      "text/plain": [
       "   75% \n",
       "299895 "
      ]
     },
     "metadata": {},
     "output_type": "display_data"
    },
    {
     "data": {
      "text/html": [
       "300070"
      ],
      "text/latex": [
       "300070"
      ],
      "text/markdown": [
       "300070"
      ],
      "text/plain": [
       "[1] 300070"
      ]
     },
     "metadata": {},
     "output_type": "display_data"
    }
   ],
   "source": [
    "# Solution\n",
    "min(Michelson$Velocity)\n",
    "quantile(Michelson$Velocity, probs=0.25)\n",
    "median(Michelson$Velocity)\n",
    "quantile(Michelson$Velocity, probs=0.75)\n",
    "max(Michelson$Velocity)"
   ]
  },
  {
   "cell_type": "markdown",
   "id": "6e5955fa-01bd-40a8-bc1d-8344b1100f9a",
   "metadata": {
    "editable": true,
    "slideshow": {
     "slide_type": ""
    },
    "tags": []
   },
   "source": [
    "### Other summary statistics"
   ]
  },
  {
   "cell_type": "markdown",
   "id": "46cf6c6e-53b2-4abe-94a8-7414e29fd330",
   "metadata": {
    "editable": true,
    "slideshow": {
     "slide_type": ""
    },
    "tags": []
   },
   "source": [
    "- Some other common summary statistics:\n",
    "\n",
    "    * __mean__: the average data value\n",
    "\n",
    "    * __variance, standard deviation__: describe the spread of the data\n",
    "    \n",
    "    * __$k$th percentile__: $k$% of the data lie below this value"
   ]
  },
  {
   "cell_type": "markdown",
   "id": "fdab6f68-7e5b-4a33-bf8a-3038ba48111d",
   "metadata": {
    "editable": true,
    "slideshow": {
     "slide_type": ""
    },
    "tags": []
   },
   "source": [
    "* In R, we can compute the 60th percentile of the `Velocity` variable like this:"
   ]
  },
  {
   "cell_type": "code",
   "execution_count": null,
   "id": "365ea38c-ddde-441f-8ed2-e1ad6a0883aa",
   "metadata": {
    "editable": true,
    "slideshow": {
     "slide_type": ""
    },
    "tags": []
   },
   "outputs": [],
   "source": []
  },
  {
   "cell_type": "code",
   "execution_count": 10,
   "id": "9ebf99e8-9d32-4e2f-a566-f89ea1a720c7",
   "metadata": {
    "editable": true,
    "slideshow": {
     "slide_type": ""
    },
    "tags": [
     "solution"
    ]
   },
   "outputs": [
    {
     "data": {
      "text/html": [
       "<strong>60%:</strong> 299870"
      ],
      "text/latex": [
       "\\textbf{60\\textbackslash{}\\%:} 299870"
      ],
      "text/markdown": [
       "**60%:** 299870"
      ],
      "text/plain": [
       "   60% \n",
       "299870 "
      ]
     },
     "metadata": {},
     "output_type": "display_data"
    }
   ],
   "source": [
    "# Solution\n",
    "quantile(Michelson$Velocity, probs=0.60)"
   ]
  },
  {
   "cell_type": "markdown",
   "id": "ed9a92b4-c788-4934-abbe-c360ebfe942f",
   "metadata": {
    "editable": true,
    "slideshow": {
     "slide_type": ""
    },
    "tags": []
   },
   "source": [
    "* Similarly, we can compute the mean and standard deviation of the `Velocity` variable like this:"
   ]
  },
  {
   "cell_type": "code",
   "execution_count": null,
   "id": "62c0db51-b3f5-4262-910f-7618a2100d18",
   "metadata": {
    "editable": true,
    "slideshow": {
     "slide_type": ""
    },
    "tags": []
   },
   "outputs": [],
   "source": []
  },
  {
   "cell_type": "code",
   "execution_count": 11,
   "id": "c0c545e3-84bb-42a9-af32-62603681a384",
   "metadata": {
    "editable": true,
    "slideshow": {
     "slide_type": ""
    },
    "tags": [
     "solution"
    ]
   },
   "outputs": [
    {
     "data": {
      "text/html": [
       "299850.585858586"
      ],
      "text/latex": [
       "299850.585858586"
      ],
      "text/markdown": [
       "299850.585858586"
      ],
      "text/plain": [
       "[1] 299850.6"
      ]
     },
     "metadata": {},
     "output_type": "display_data"
    },
    {
     "data": {
      "text/html": [
       "82.3908071577301"
      ],
      "text/latex": [
       "82.3908071577301"
      ],
      "text/markdown": [
       "82.3908071577301"
      ],
      "text/plain": [
       "[1] 82.39081"
      ]
     },
     "metadata": {},
     "output_type": "display_data"
    }
   ],
   "source": [
    "# Solution\n",
    "mean(Michelson$Velocity)\n",
    "sd(Michelson$Velocity)"
   ]
  },
  {
   "cell_type": "markdown",
   "id": "49073534-9b9a-4bd2-bbb1-1dfca163cb5d",
   "metadata": {
    "editable": true,
    "slideshow": {
     "slide_type": ""
    },
    "tags": []
   },
   "source": [
    "### Tables"
   ]
  },
  {
   "cell_type": "markdown",
   "id": "8d8a6def-349b-4888-9612-f619e3c42869",
   "metadata": {
    "editable": true,
    "slideshow": {
     "slide_type": ""
    },
    "tags": []
   },
   "source": [
    "* Tables are commonly used to summarize categorical variables\n",
    "\n",
    "* We can create a __one-way table__ that tabulates the number of `am` and `pm` values in the `Time` variable, like this: "
   ]
  },
  {
   "cell_type": "code",
   "execution_count": null,
   "id": "902fe9d3-3393-4272-bb8e-e7d61ceac128",
   "metadata": {
    "editable": true,
    "slideshow": {
     "slide_type": ""
    },
    "tags": []
   },
   "outputs": [],
   "source": []
  },
  {
   "cell_type": "code",
   "execution_count": 12,
   "id": "e1f24a16-4dc9-4625-b532-7f7f687060e5",
   "metadata": {
    "editable": true,
    "slideshow": {
     "slide_type": ""
    },
    "tags": [
     "solution"
    ]
   },
   "outputs": [
    {
     "data": {
      "text/plain": [
       "\n",
       "am pm \n",
       "37 62 "
      ]
     },
     "metadata": {},
     "output_type": "display_data"
    }
   ],
   "source": [
    "# Solution\n",
    "table(Michelson$Time)"
   ]
  },
  {
   "cell_type": "markdown",
   "id": "9ad60eba-6290-473a-9b13-1cee2e8dac8c",
   "metadata": {},
   "source": [
    "* We can create a __two-way table__ for the values in the `Time` and `Image` variables, like this: "
   ]
  },
  {
   "cell_type": "code",
   "execution_count": null,
   "id": "03f8b5cb-bb66-4be7-81d4-3d87916cecd8",
   "metadata": {},
   "outputs": [],
   "source": []
  },
  {
   "cell_type": "code",
   "execution_count": 13,
   "id": "4997c817-fd4a-4e10-84c8-bf15d4d24f90",
   "metadata": {
    "tags": [
     "solution"
    ]
   },
   "outputs": [
    {
     "data": {
      "text/plain": [
       "    \n",
       "     fair good poor\n",
       "  am   12   15   10\n",
       "  pm   27   30    5"
      ]
     },
     "metadata": {},
     "output_type": "display_data"
    }
   ],
   "source": [
    "# Solution\n",
    "table(Michelson$Time, Michelson$Image)"
   ]
  },
  {
   "cell_type": "markdown",
   "id": "144b71ae-15f1-4d53-b65d-e672923bdb2c",
   "metadata": {},
   "source": [
    "### Graphics"
   ]
  },
  {
   "cell_type": "markdown",
   "id": "e9fe8774-f724-4322-9872-74f3edcb7eb1",
   "metadata": {},
   "source": [
    "#### Histogram"
   ]
  },
  {
   "cell_type": "markdown",
   "id": "07771106-6fdf-4ee4-9998-81639b977782",
   "metadata": {
    "editable": true,
    "slideshow": {
     "slide_type": ""
    },
    "tags": []
   },
   "source": [
    "* A __histogram__ divides the data values into \"bins\" and plots the relative frequency of data values in each bin\n",
    "\n",
    "* A histogram helps us see the _shape_ of the distribution (e.g., symmetric or skewed) and _potential outliers_ (extreme values far away from most of the data)\n",
    "\n",
    "* We can create a histogram of the values in the `Velocity` variable, like this:"
   ]
  },
  {
   "cell_type": "code",
   "execution_count": null,
   "id": "9fd6a320-91ee-4cc5-af9f-99bcabd37280",
   "metadata": {
    "editable": true,
    "slideshow": {
     "slide_type": ""
    },
    "tags": []
   },
   "outputs": [],
   "source": []
  },
  {
   "cell_type": "code",
   "execution_count": 14,
   "id": "e78c1530-ce72-488c-99cf-775894371860",
   "metadata": {
    "editable": true,
    "slideshow": {
     "slide_type": ""
    },
    "tags": [
     "solution"
    ]
   },
   "outputs": [
    {
     "data": {
      "image/png": "[encoded data removed]",
      "text/plain": [
       "Plot with title “Histogram of Michelson$Velocity”"
      ]
     },
     "metadata": {
      "image/png": {
       "height": 420,
       "width": 420
      }
     },
     "output_type": "display_data"
    }
   ],
   "source": [
    "# Solution\n",
    "hist(Michelson$Velocity)"
   ]
  },
  {
   "cell_type": "markdown",
   "id": "4ee58010-07b2-4406-8ce1-c9bd0a44bd19",
   "metadata": {
    "editable": true,
    "slideshow": {
     "slide_type": ""
    },
    "tags": []
   },
   "source": [
    "* We can change the number of bin widths used, like this:"
   ]
  },
  {
   "cell_type": "code",
   "execution_count": null,
   "id": "ee1b0d4c-21cc-4a9f-8995-6f2296c140aa",
   "metadata": {},
   "outputs": [],
   "source": []
  },
  {
   "cell_type": "code",
   "execution_count": 15,
   "id": "c42602f0-f5f6-47ce-9f4a-70d842c75b11",
   "metadata": {
    "editable": true,
    "slideshow": {
     "slide_type": ""
    },
    "tags": [
     "solution"
    ]
   },
   "outputs": [
    {
     "data": {
      "image/png": "[encoded data removed]",
      "text/plain": [
       "Plot with title “Histogram of Michelson$Velocity”"
      ]
     },
     "metadata": {
      "image/png": {
       "height": 420,
       "width": 420
      }
     },
     "output_type": "display_data"
    }
   ],
   "source": [
    "# Solution\n",
    "hist(Michelson$Velocity, breaks=100)"
   ]
  },
  {
   "cell_type": "markdown",
   "id": "e0eb6639-a4fa-4455-aa32-5f56135a88de",
   "metadata": {
    "editable": true,
    "slideshow": {
     "slide_type": ""
    },
    "tags": []
   },
   "source": [
    "#### Boxplot"
   ]
  },
  {
   "cell_type": "markdown",
   "id": "59ccea69-9ccf-427f-990b-5973747e3aa3",
   "metadata": {},
   "source": [
    "* A __boxplot__ is a visual representation of the five-number summary\n",
    "\n",
    "<img src=\"img/boxplot-annotated.jpg\" width=\"700\" />\n",
    "\n",
    "* A boxplot also helps us see the shape of the distribution and potential outliers\n",
    "\n",
    "* We can create a boxplot of the values in the `Velocity` column, like this:"
   ]
  },
  {
   "cell_type": "code",
   "execution_count": null,
   "id": "c397653d-16b8-490b-9c73-82442cf0e59e",
   "metadata": {},
   "outputs": [],
   "source": []
  },
  {
   "cell_type": "code",
   "execution_count": 16,
   "id": "049378dc-e9e8-4a2e-a7ad-9472e5d8b75c",
   "metadata": {
    "tags": [
     "solution"
    ]
   },
   "outputs": [
    {
     "data": {
      "image/png": "[encoded data removed]",
      "text/plain": [
       "plot without title"
      ]
     },
     "metadata": {
      "image/png": {
       "height": 420,
       "width": 420
      }
     },
     "output_type": "display_data"
    }
   ],
   "source": [
    "# Solution\n",
    "boxplot(Michelson$Velocity)"
   ]
  },
  {
   "cell_type": "markdown",
   "id": "c2012a6a-892d-4f12-ba32-de6b1b23577c",
   "metadata": {},
   "source": [
    "* We can make the boxplot horizontal instead, like this:"
   ]
  },
  {
   "cell_type": "code",
   "execution_count": null,
   "id": "114881f1-83f4-4ef3-afa0-de1985fca701",
   "metadata": {
    "editable": true,
    "slideshow": {
     "slide_type": ""
    },
    "tags": []
   },
   "outputs": [],
   "source": []
  },
  {
   "cell_type": "code",
   "execution_count": 17,
   "id": "e7eee42c-3026-47ad-9aaf-5d7d6fcf1774",
   "metadata": {
    "editable": true,
    "slideshow": {
     "slide_type": ""
    },
    "tags": [
     "solution"
    ]
   },
   "outputs": [
    {
     "data": {
      "image/png": "[encoded data removed]",
      "text/plain": [
       "plot without title"
      ]
     },
     "metadata": {
      "image/png": {
       "height": 420,
       "width": 420
      }
     },
     "output_type": "display_data"
    }
   ],
   "source": [
    "# Solution\n",
    "boxplot(Michelson$Velocity, horizontal=TRUE)"
   ]
  },
  {
   "cell_type": "markdown",
   "id": "aff73052-b5d5-4e38-8ef1-6bce2b26368a",
   "metadata": {
    "editable": true,
    "slideshow": {
     "slide_type": ""
    },
    "tags": []
   },
   "source": [
    "#### Normal Q-Q plot"
   ]
  },
  {
   "cell_type": "markdown",
   "id": "52699ee6-5e2e-4560-9b93-a56f2a8a1450",
   "metadata": {
    "editable": true,
    "slideshow": {
     "slide_type": ""
    },
    "tags": []
   },
   "source": [
    "* A __Normal Q-Q plot__ plots the quantiles of a Normal distribution versus the data quantiles\n",
    "\n",
    "\n",
    "* A Normal Q-Q plot is used to _check for normality_ \n",
    "    - If the points follow an approximately straight line, then it is reasonable to assume that the data came from a (close to) Normal distribution"
   ]
  },
  {
   "cell_type": "markdown",
   "id": "c3943847-1c41-4f3f-875c-db9e075e5e24",
   "metadata": {
    "editable": true,
    "slideshow": {
     "slide_type": ""
    },
    "tags": []
   },
   "source": [
    "* We can create a Normal Q-Q plot of the values in the `Velocity` vector as follows:"
   ]
  },
  {
   "cell_type": "code",
   "execution_count": null,
   "id": "2f2e8506-beee-4e99-9c35-ed2e7044df9b",
   "metadata": {
    "editable": true,
    "slideshow": {
     "slide_type": ""
    },
    "tags": []
   },
   "outputs": [],
   "source": []
  },
  {
   "cell_type": "code",
   "execution_count": 18,
   "id": "25ec4f85-aa23-4c62-9a58-156d43f59439",
   "metadata": {
    "editable": true,
    "slideshow": {
     "slide_type": ""
    },
    "tags": [
     "solution"
    ]
   },
   "outputs": [
    {
     "data": {
      "image/png": "[encoded data removed]",
      "text/plain": [
       "Plot with title “Normal Q-Q Plot”"
      ]
     },
     "metadata": {
      "image/png": {
       "height": 420,
       "width": 420
      }
     },
     "output_type": "display_data"
    }
   ],
   "source": [
    "# Solution\n",
    "qqnorm(Michelson$Velocity)"
   ]
  },
  {
   "cell_type": "markdown",
   "id": "0d02238c-e969-4fc8-bbb6-a8199ff331e8",
   "metadata": {
    "editable": true,
    "slideshow": {
     "slide_type": ""
    },
    "tags": []
   },
   "source": [
    "<hr style=\"border-top: 2px solid gray; margin-top: 1px; margin-bottom: 1px\"></hr>"
   ]
  },
  {
   "cell_type": "markdown",
   "id": "fd1052ef-ed33-443f-bf9d-679f2c3b1968",
   "metadata": {
    "editable": true,
    "slideshow": {
     "slide_type": ""
    },
    "tags": []
   },
   "source": [
    "## Exercises"
   ]
  },
  {
   "cell_type": "markdown",
   "id": "fcb46006-797e-4397-a592-5a448ff032e0",
   "metadata": {
    "editable": true,
    "slideshow": {
     "slide_type": ""
    },
    "tags": []
   },
   "source": [
    "### Problem 1\n",
    "\n",
    "If $X$ has a $t$-distribution with 8 degrees of freedom (i.e., $t(8)$), we can find the $p$-quantile of $X$ in R using `qt(p, df = 8)`.\n",
    "\n",
    "For example, we can find $a$ such that $P(X \\le a) = 0.95$ like this:"
   ]
  },
  {
   "cell_type": "code",
   "execution_count": 19,
   "id": "2b96c888-ef3f-46b8-877b-53aaca5b3517",
   "metadata": {
    "editable": true,
    "slideshow": {
     "slide_type": ""
    },
    "tags": []
   },
   "outputs": [
    {
     "data": {
      "text/html": [
       "1.8595480375309"
      ],
      "text/latex": [
       "1.8595480375309"
      ],
      "text/markdown": [
       "1.8595480375309"
      ],
      "text/plain": [
       "[1] 1.859548"
      ]
     },
     "metadata": {},
     "output_type": "display_data"
    }
   ],
   "source": [
    "qt(0.95, df = 8)"
   ]
  },
  {
   "cell_type": "markdown",
   "id": "3c700809-024f-4096-9c78-d7db22b2ee00",
   "metadata": {
    "editable": true,
    "slideshow": {
     "slide_type": ""
    },
    "tags": []
   },
   "source": [
    "Find $a$ for each of the following."
   ]
  },
  {
   "cell_type": "markdown",
   "id": "e2dfa37d-6295-413f-ae52-e4978d3fea40",
   "metadata": {
    "editable": true,
    "slideshow": {
     "slide_type": ""
    },
    "tags": []
   },
   "source": [
    "(a) $P(X > x^*) = 0.95$"
   ]
  },
  {
   "cell_type": "code",
   "execution_count": null,
   "id": "8c4534ca-daa7-41cb-b018-5584f65662e4",
   "metadata": {
    "editable": true,
    "slideshow": {
     "slide_type": ""
    },
    "tags": []
   },
   "outputs": [],
   "source": []
  },
  {
   "cell_type": "markdown",
   "id": "f48856f1-a693-44b9-96d1-5cc6b7cc2084",
   "metadata": {
    "editable": true,
    "slideshow": {
     "slide_type": ""
    },
    "tags": [
     "solution"
    ]
   },
   "source": [
    "*Solution.* Since $P(X > a) = 0.95$, we have $P(X \\le a) = 1 - P(X > a) = 1 - 0.95 = 0.05$. So,"
   ]
  },
  {
   "cell_type": "code",
   "execution_count": 20,
   "id": "4f844ce0-aa94-422d-ade3-aedb997b05d1",
   "metadata": {
    "editable": true,
    "slideshow": {
     "slide_type": ""
    },
    "tags": [
     "solution"
    ]
   },
   "outputs": [
    {
     "data": {
      "text/html": [
       "-1.8595480375309"
      ],
      "text/latex": [
       "-1.8595480375309"
      ],
      "text/markdown": [
       "-1.8595480375309"
      ],
      "text/plain": [
       "[1] -1.859548"
      ]
     },
     "metadata": {},
     "output_type": "display_data"
    }
   ],
   "source": [
    "# Solution\n",
    "qt(0.05, df = 8)"
   ]
  },
  {
   "cell_type": "markdown",
   "id": "124b0122-cfa7-4bba-8cbc-828e0fe06f2f",
   "metadata": {
    "editable": true,
    "slideshow": {
     "slide_type": ""
    },
    "tags": []
   },
   "source": [
    "(b) $P(X < a) = 0.10$"
   ]
  },
  {
   "cell_type": "code",
   "execution_count": null,
   "id": "8274f50f-68a5-4f4a-941a-642250b9d2e3",
   "metadata": {
    "editable": true,
    "slideshow": {
     "slide_type": ""
    },
    "tags": []
   },
   "outputs": [],
   "source": []
  },
  {
   "cell_type": "code",
   "execution_count": 21,
   "id": "51d04392-e1bc-4d8b-9b0d-bf0567600e1e",
   "metadata": {
    "editable": true,
    "slideshow": {
     "slide_type": ""
    },
    "tags": [
     "solution"
    ]
   },
   "outputs": [
    {
     "data": {
      "text/html": [
       "-1.39681530974387"
      ],
      "text/latex": [
       "-1.39681530974387"
      ],
      "text/markdown": [
       "-1.39681530974387"
      ],
      "text/plain": [
       "[1] -1.396815"
      ]
     },
     "metadata": {},
     "output_type": "display_data"
    }
   ],
   "source": [
    "# Solution\n",
    "qt(0.10, df = 8)"
   ]
  },
  {
   "cell_type": "markdown",
   "id": "b4f819c5-03f0-4160-8122-d1201e357abb",
   "metadata": {
    "editable": true,
    "slideshow": {
     "slide_type": ""
    },
    "tags": []
   },
   "source": [
    "(c) $P(X > a) = 0.10$"
   ]
  },
  {
   "cell_type": "code",
   "execution_count": null,
   "id": "95d8e089-f70b-4e47-8e12-56687e213867",
   "metadata": {
    "editable": true,
    "slideshow": {
     "slide_type": ""
    },
    "tags": []
   },
   "outputs": [],
   "source": []
  },
  {
   "cell_type": "markdown",
   "id": "9b0973f5-0774-4b59-b1d5-65e8ad879c05",
   "metadata": {
    "editable": true,
    "slideshow": {
     "slide_type": ""
    },
    "tags": [
     "solution"
    ]
   },
   "source": [
    "*Solution.* Since $P(X > a) = 0.10$, we have $P(X \\le a) = 1 - P(X > a) = 1 - 0.10 = 0.90$. So, "
   ]
  },
  {
   "cell_type": "code",
   "execution_count": 22,
   "id": "55fa0b1d-7363-4c3d-a065-a26c0ca45b94",
   "metadata": {
    "editable": true,
    "slideshow": {
     "slide_type": ""
    },
    "tags": [
     "solution"
    ]
   },
   "outputs": [
    {
     "data": {
      "text/html": [
       "1.39681530974387"
      ],
      "text/latex": [
       "1.39681530974387"
      ],
      "text/markdown": [
       "1.39681530974387"
      ],
      "text/plain": [
       "[1] 1.396815"
      ]
     },
     "metadata": {},
     "output_type": "display_data"
    }
   ],
   "source": [
    "# Solution\n",
    "qt(0.90, df = 8)"
   ]
  },
  {
   "cell_type": "markdown",
   "id": "b3031b50-2b7a-4b06-894f-43ed308f0d2f",
   "metadata": {
    "editable": true,
    "slideshow": {
     "slide_type": ""
    },
    "tags": []
   },
   "source": [
    "(d) $P(X < a) = 0.5$"
   ]
  },
  {
   "cell_type": "code",
   "execution_count": null,
   "id": "fa30d069-db9c-4381-a255-f0ba57d36ac4",
   "metadata": {
    "editable": true,
    "slideshow": {
     "slide_type": ""
    },
    "tags": []
   },
   "outputs": [],
   "source": []
  },
  {
   "cell_type": "code",
   "execution_count": 23,
   "id": "74394e96-eea0-4d56-a1b3-f43a8803c5f6",
   "metadata": {
    "editable": true,
    "slideshow": {
     "slide_type": ""
    },
    "tags": [
     "solution"
    ]
   },
   "outputs": [
    {
     "data": {
      "text/html": [
       "0"
      ],
      "text/latex": [
       "0"
      ],
      "text/markdown": [
       "0"
      ],
      "text/plain": [
       "[1] 0"
      ]
     },
     "metadata": {},
     "output_type": "display_data"
    }
   ],
   "source": [
    "# Solution\n",
    "qt(0.5, df = 8)"
   ]
  },
  {
   "cell_type": "markdown",
   "id": "939cd713-1b16-4b4d-97b7-8f0b40157300",
   "metadata": {
    "editable": true,
    "slideshow": {
     "slide_type": ""
    },
    "tags": []
   },
   "source": [
    "### Problem 2"
   ]
  },
  {
   "cell_type": "markdown",
   "id": "f7e1d84f-a01c-42ae-aed0-6dc4a3f6d343",
   "metadata": {
    "editable": true,
    "slideshow": {
     "slide_type": ""
    },
    "tags": []
   },
   "source": [
    "We can plot the pdf of $X \\sim N(2, 8)$ in R with the following steps:\n",
    "\n",
    "1. Create a sequence of x values, like this:\n",
    "    \n",
    "    ```r\n",
    "    xx <- seq(from = -5, to = 5, by = 0.1)\n",
    "    ```\n",
    "    <br>\n",
    "\n",
    "2. Find the pdf value for each of these x values using `dnorm`, like this:\n",
    "    \n",
    "    ```r\n",
    "    pdf <- dnorm(xx, mean = 2, sd = sqrt(8))\n",
    "    ```\n",
    "    <br>\n",
    "        \n",
    "3. Plot the x values vs. the pdf values, like this:\n",
    "    \n",
    "   ```r\n",
    "   plot(xx, pdf, type = \"l\")  # \"l\" for line\n",
    "   ```"
   ]
  },
  {
   "cell_type": "code",
   "execution_count": 24,
   "id": "8a256a3f-20dc-462b-9d77-879c766fcd31",
   "metadata": {
    "editable": true,
    "slideshow": {
     "slide_type": ""
    },
    "tags": []
   },
   "outputs": [
    {
     "data": {
      "image/png": "[encoded data removed]",
      "text/plain": [
       "plot without title"
      ]
     },
     "metadata": {
      "image/png": {
       "height": 420,
       "width": 420
      }
     },
     "output_type": "display_data"
    }
   ],
   "source": [
    "xx <- seq(from = -5, to = 5, by = 0.1)\n",
    "pdf <- dnorm(xx, mean = 2, sd = sqrt(8))\n",
    "plot(xx, pdf, type = \"l\")"
   ]
  },
  {
   "cell_type": "markdown",
   "id": "28c2389f-74cb-4d44-acd2-3498d37ad6ac",
   "metadata": {
    "editable": true,
    "slideshow": {
     "slide_type": ""
    },
    "tags": []
   },
   "source": [
    "The R code below creates a plot that overlays four Normal pdfs: each Normal distribution has a standard deviation of 1, and the means are 0, 1, 2, and 3.\n",
    "\n",
    "Run the R code below. What happens to the PDF as the mean increases?"
   ]
  },
  {
   "cell_type": "code",
   "execution_count": 25,
   "id": "3fe1a312-e1bd-4297-97e4-a643b0c58251",
   "metadata": {
    "editable": true,
    "slideshow": {
     "slide_type": ""
    },
    "tags": []
   },
   "outputs": [
    {
     "data": {
      "image/png": "[encoded data removed]",
      "text/plain": [
       "plot without title"
      ]
     },
     "metadata": {
      "image/png": {
       "height": 420,
       "width": 420
      }
     },
     "output_type": "display_data"
    }
   ],
   "source": [
    "xx <- seq(-5, 8, by=0.01)\n",
    "pdf0 <- dnorm(xx, mean = 0, sd = 1)\n",
    "pdf1 <- dnorm(xx, mean = 1, sd = 1)\n",
    "pdf2 <- dnorm(xx, mean = 2, sd = 1)\n",
    "pdf3 <- dnorm(xx, mean = 3, sd = 1)\n",
    "\n",
    "plot(xx, pdf0, type=\"l\")\n",
    "lines(xx, pdf1)\n",
    "lines(xx, pdf2)\n",
    "lines(xx, pdf3)"
   ]
  },
  {
   "cell_type": "markdown",
   "id": "e1b5fc98-2108-4671-8224-6773d7faaaa8",
   "metadata": {
    "editable": true,
    "slideshow": {
     "slide_type": ""
    },
    "tags": []
   },
   "source": [
    "*Write your answer here. Double-click to edit.*"
   ]
  },
  {
   "cell_type": "markdown",
   "id": "512f4152-eea4-48dd-af4a-25fe7db4dc3e",
   "metadata": {
    "editable": true,
    "slideshow": {
     "slide_type": ""
    },
    "tags": [
     "solution"
    ]
   },
   "source": [
    "*Solution.* As the mean increases, the PDF shifts to the right."
   ]
  },
  {
   "cell_type": "markdown",
   "id": "489a5a6c-5a02-4066-95a7-73aec097a8c3",
   "metadata": {
    "editable": true,
    "slideshow": {
     "slide_type": ""
    },
    "tags": []
   },
   "source": [
    "### Problem 3\n",
    "\n",
    "Modify the code in Problem 2 to create another plot that overlays four Normal PDFs. This time, they should all have the same mean 0, but the standard deviations should be 0.5, 1, 2, and 4. What happens to the PDF as the standard deviation increases?"
   ]
  },
  {
   "cell_type": "code",
   "execution_count": null,
   "id": "086a942b-0c6a-495d-bc14-47922509d4e8",
   "metadata": {
    "editable": true,
    "slideshow": {
     "slide_type": ""
    },
    "tags": []
   },
   "outputs": [],
   "source": []
  },
  {
   "cell_type": "code",
   "execution_count": 26,
   "id": "b9d21667-1a44-4e30-aaef-5d0550862088",
   "metadata": {
    "editable": true,
    "slideshow": {
     "slide_type": ""
    },
    "tags": [
     "solution"
    ]
   },
   "outputs": [
    {
     "data": {
      "image/png": "[encoded data removed]",
      "text/plain": [
       "plot without title"
      ]
     },
     "metadata": {
      "image/png": {
       "height": 420,
       "width": 420
      }
     },
     "output_type": "display_data"
    }
   ],
   "source": [
    "# Solution\n",
    "xx <- seq(-5, 8, by=0.01)\n",
    "pdf0 <- dnorm(xx, mean = 0, sd = 0.5)\n",
    "pdf1 <- dnorm(xx, mean = 0, sd = 1)\n",
    "pdf2 <- dnorm(xx, mean = 0, sd = 2)\n",
    "pdf3 <- dnorm(xx, mean = 0, sd = 4)\n",
    "\n",
    "plot(xx, pdf0, type=\"l\")\n",
    "lines(xx, pdf1)\n",
    "lines(xx, pdf2)\n",
    "lines(xx, pdf3)"
   ]
  },
  {
   "cell_type": "markdown",
   "id": "0750bb79-5948-433b-8bd4-22a495140def",
   "metadata": {
    "editable": true,
    "slideshow": {
     "slide_type": ""
    },
    "tags": []
   },
   "source": [
    "*Write your answer here. Double-click to edit.*"
   ]
  },
  {
   "cell_type": "markdown",
   "id": "612b0f69-42d1-4c00-b15c-2b4378ce9fcb",
   "metadata": {
    "editable": true,
    "slideshow": {
     "slide_type": ""
    },
    "tags": [
     "solution"
    ]
   },
   "source": [
    "*Solution.* As the standard deviation increases, the PDF flattens."
   ]
  },
  {
   "cell_type": "markdown",
   "id": "85beefca-093f-4328-8c9f-1bfd9c3868e6",
   "metadata": {
    "editable": true,
    "slideshow": {
     "slide_type": ""
    },
    "tags": []
   },
   "source": [
    "### Problem 4\n",
    "\n",
    "Suppose $X$ has a $t$-distribution with $d$ degrees of freedom.\n",
    "We can calculate the cdf $F_X(x)$ of $X$ with the R code `pt(x, df = d)`."
   ]
  },
  {
   "cell_type": "markdown",
   "id": "e76421dc-b47f-40b8-9122-9388ed0e0fe9",
   "metadata": {
    "editable": true,
    "slideshow": {
     "slide_type": ""
    },
    "tags": []
   },
   "source": [
    "(a) Compute $P(-1 < X < 1)$ for $d = 5, 20, 100$."
   ]
  },
  {
   "cell_type": "code",
   "execution_count": null,
   "id": "1c117757-bca1-4dc3-86d3-ec0e6fde6944",
   "metadata": {
    "editable": true,
    "slideshow": {
     "slide_type": ""
    },
    "tags": []
   },
   "outputs": [],
   "source": []
  },
  {
   "cell_type": "code",
   "execution_count": 27,
   "id": "cd794183-ca73-4483-ba5c-ac5a3307aee0",
   "metadata": {
    "editable": true,
    "slideshow": {
     "slide_type": ""
    },
    "tags": [
     "solution"
    ]
   },
   "outputs": [
    {
     "data": {
      "text/html": [
       "0.636782532350877"
      ],
      "text/latex": [
       "0.636782532350877"
      ],
      "text/markdown": [
       "0.636782532350877"
      ],
      "text/plain": [
       "[1] 0.6367825"
      ]
     },
     "metadata": {},
     "output_type": "display_data"
    },
    {
     "data": {
      "text/html": [
       "0.670743422828291"
      ],
      "text/latex": [
       "0.670743422828291"
      ],
      "text/markdown": [
       "0.670743422828291"
      ],
      "text/plain": [
       "[1] 0.6707434"
      ]
     },
     "metadata": {},
     "output_type": "display_data"
    },
    {
     "data": {
      "text/html": [
       "0.680275844215876"
      ],
      "text/latex": [
       "0.680275844215876"
      ],
      "text/markdown": [
       "0.680275844215876"
      ],
      "text/plain": [
       "[1] 0.6802758"
      ]
     },
     "metadata": {},
     "output_type": "display_data"
    }
   ],
   "source": [
    "# Solution\n",
    "pt(1, df = 5) - pt(-1, df = 5)\n",
    "pt(1, df = 20) - pt(-1, df = 20)\n",
    "pt(1, df = 100) - pt(-1, df = 100)"
   ]
  },
  {
   "cell_type": "markdown",
   "id": "9c63bbcb-0aa8-43cc-ba74-96e648721030",
   "metadata": {
    "editable": true,
    "slideshow": {
     "slide_type": ""
    },
    "tags": []
   },
   "source": [
    "(b) Compare your answers from part (a) to $P(-1 < Z < 1)$ when $Z$ has a standard Normal distribution (i.e., $Z \\sim N(0, 1)$. (See the lesson for how to compute the cdf of a Normal distribution in R)."
   ]
  },
  {
   "cell_type": "code",
   "execution_count": null,
   "id": "abdef2d3-2a1a-4cfc-bbb1-8e22601e1a6c",
   "metadata": {
    "editable": true,
    "slideshow": {
     "slide_type": ""
    },
    "tags": []
   },
   "outputs": [],
   "source": []
  },
  {
   "cell_type": "code",
   "execution_count": 28,
   "id": "4ac9aceb-fed5-4d6e-bd9b-99176cb48d41",
   "metadata": {
    "editable": true,
    "slideshow": {
     "slide_type": ""
    },
    "tags": [
     "solution"
    ]
   },
   "outputs": [
    {
     "data": {
      "text/html": [
       "0.682689492137086"
      ],
      "text/latex": [
       "0.682689492137086"
      ],
      "text/markdown": [
       "0.682689492137086"
      ],
      "text/plain": [
       "[1] 0.6826895"
      ]
     },
     "metadata": {},
     "output_type": "display_data"
    }
   ],
   "source": [
    "# Solution\n",
    "pnorm(1, mean = 0, sd = 1) - pnorm(-1, mean = 0, sd = 1)"
   ]
  },
  {
   "cell_type": "markdown",
   "id": "a5354b0c-58d0-42a3-aa85-20dfcb6685f0",
   "metadata": {
    "editable": true,
    "slideshow": {
     "slide_type": ""
    },
    "tags": [
     "solution"
    ]
   },
   "source": [
    "*Solution.* As the degrees of freedom for the $t$-distribution increases, the probabilities get closer to the probability from a standard Normal distribution."
   ]
  },
  {
   "cell_type": "markdown",
   "id": "2860814b-c394-4034-a6b4-8d5a31f9f63e",
   "metadata": {
    "editable": true,
    "slideshow": {
     "slide_type": ""
    },
    "tags": []
   },
   "source": [
    "### Problem 5"
   ]
  },
  {
   "cell_type": "markdown",
   "id": "e06a63eb-6b91-46db-9376-f9311a243c17",
   "metadata": {
    "editable": true,
    "slideshow": {
     "slide_type": ""
    },
    "tags": []
   },
   "source": [
    "In the same folder as this notebook, there is a file `data/HumanTemp.csv`.\n",
    "Recall that we can read the data in this file into a R data frame (a.k.a. table) called `HumanTemp` like this: "
   ]
  },
  {
   "cell_type": "code",
   "execution_count": 29,
   "id": "c292a139-8f0d-493a-bb8d-00023d28aae7",
   "metadata": {
    "editable": true,
    "slideshow": {
     "slide_type": ""
    },
    "tags": []
   },
   "outputs": [],
   "source": [
    "HumanTemp <- read.table('data/HumanTemp.csv', header=TRUE, sep=',') "
   ]
  },
  {
   "cell_type": "markdown",
   "id": "9fa790a5-07ff-49e2-8620-58d80e414dbb",
   "metadata": {
    "editable": true,
    "slideshow": {
     "slide_type": ""
    },
    "tags": []
   },
   "source": [
    "(a) Display the first few  rows of `HumanTemp`. "
   ]
  },
  {
   "cell_type": "code",
   "execution_count": null,
   "id": "b8431816-724a-48b3-b148-6f9478171f7e",
   "metadata": {
    "editable": true,
    "slideshow": {
     "slide_type": ""
    },
    "tags": []
   },
   "outputs": [],
   "source": []
  },
  {
   "cell_type": "code",
   "execution_count": 30,
   "id": "3017cef3-858f-49ab-a67d-00d738842e8f",
   "metadata": {
    "editable": true,
    "slideshow": {
     "slide_type": ""
    },
    "tags": [
     "solution"
    ]
   },
   "outputs": [
    {
     "data": {
      "text/html": [
       "<table class=\"dataframe\">\n",
       "<caption>A data.frame: 6 × 3</caption>\n",
       "<thead>\n",
       "\t<tr><th></th><th scope=col>Temp</th><th scope=col>Sex</th><th scope=col>Pulse</th></tr>\n",
       "\t<tr><th></th><th scope=col>&lt;dbl&gt;</th><th scope=col>&lt;chr&gt;</th><th scope=col>&lt;int&gt;</th></tr>\n",
       "</thead>\n",
       "<tbody>\n",
       "\t<tr><th scope=row>1</th><td>96.3</td><td>male</td><td>70</td></tr>\n",
       "\t<tr><th scope=row>2</th><td>96.7</td><td>male</td><td>71</td></tr>\n",
       "\t<tr><th scope=row>3</th><td>96.9</td><td>male</td><td>74</td></tr>\n",
       "\t<tr><th scope=row>4</th><td>97.0</td><td>male</td><td>80</td></tr>\n",
       "\t<tr><th scope=row>5</th><td>97.1</td><td>male</td><td>73</td></tr>\n",
       "\t<tr><th scope=row>6</th><td>97.1</td><td>male</td><td>75</td></tr>\n",
       "</tbody>\n",
       "</table>\n"
      ],
      "text/latex": [
       "A data.frame: 6 × 3\n",
       "\\begin{tabular}{r|lll}\n",
       "  & Temp & Sex & Pulse\\\\\n",
       "  & <dbl> & <chr> & <int>\\\\\n",
       "\\hline\n",
       "\t1 & 96.3 & male & 70\\\\\n",
       "\t2 & 96.7 & male & 71\\\\\n",
       "\t3 & 96.9 & male & 74\\\\\n",
       "\t4 & 97.0 & male & 80\\\\\n",
       "\t5 & 97.1 & male & 73\\\\\n",
       "\t6 & 97.1 & male & 75\\\\\n",
       "\\end{tabular}\n"
      ],
      "text/markdown": [
       "\n",
       "A data.frame: 6 × 3\n",
       "\n",
       "| <!--/--> | Temp &lt;dbl&gt; | Sex &lt;chr&gt; | Pulse &lt;int&gt; |\n",
       "|---|---|---|---|\n",
       "| 1 | 96.3 | male | 70 |\n",
       "| 2 | 96.7 | male | 71 |\n",
       "| 3 | 96.9 | male | 74 |\n",
       "| 4 | 97.0 | male | 80 |\n",
       "| 5 | 97.1 | male | 73 |\n",
       "| 6 | 97.1 | male | 75 |\n",
       "\n"
      ],
      "text/plain": [
       "  Temp Sex  Pulse\n",
       "1 96.3 male 70   \n",
       "2 96.7 male 71   \n",
       "3 96.9 male 74   \n",
       "4 97.0 male 80   \n",
       "5 97.1 male 73   \n",
       "6 97.1 male 75   "
      ]
     },
     "metadata": {},
     "output_type": "display_data"
    }
   ],
   "source": [
    "# Solution\n",
    "head(HumanTemp)"
   ]
  },
  {
   "cell_type": "markdown",
   "id": "4ff34584-95c8-4f60-91a3-d9d3085284a7",
   "metadata": {
    "editable": true,
    "slideshow": {
     "slide_type": ""
    },
    "tags": []
   },
   "source": [
    "(b) Make a boxplot of the sampled temperatures."
   ]
  },
  {
   "cell_type": "code",
   "execution_count": null,
   "id": "60f7e8ab-d2b4-4173-b67a-6f1859aa7762",
   "metadata": {
    "editable": true,
    "slideshow": {
     "slide_type": ""
    },
    "tags": []
   },
   "outputs": [],
   "source": []
  },
  {
   "cell_type": "code",
   "execution_count": 31,
   "id": "957298b1-24eb-42e2-b8fa-21768520f21c",
   "metadata": {
    "editable": true,
    "slideshow": {
     "slide_type": ""
    },
    "tags": [
     "solution"
    ]
   },
   "outputs": [
    {
     "data": {
      "image/png": "[encoded data removed]",
      "text/plain": [
       "plot without title"
      ]
     },
     "metadata": {
      "image/png": {
       "height": 420,
       "width": 420
      }
     },
     "output_type": "display_data"
    }
   ],
   "source": [
    "# Solution\n",
    "boxplot(HumanTemp$Temp)"
   ]
  },
  {
   "cell_type": "markdown",
   "id": "b212b7b7-60a1-4e24-98ed-709c6475d311",
   "metadata": {
    "editable": true,
    "slideshow": {
     "slide_type": ""
    },
    "tags": []
   },
   "source": [
    "(c) Use your boxplot to estimate the median."
   ]
  },
  {
   "cell_type": "markdown",
   "id": "03d969b7-d603-4044-a16a-90ab889793b6",
   "metadata": {
    "editable": true,
    "slideshow": {
     "slide_type": ""
    },
    "tags": []
   },
   "source": [
    "*Write your answer here. Double-click to edit.*"
   ]
  },
  {
   "cell_type": "markdown",
   "id": "62627e6b-aef2-4a57-be77-ac08c126e956",
   "metadata": {
    "editable": true,
    "slideshow": {
     "slide_type": ""
    },
    "tags": [
     "solution"
    ]
   },
   "source": [
    "*Solution.* The median (thick black line in the boxplot) appears to be at about 98.3."
   ]
  },
  {
   "cell_type": "markdown",
   "id": "3aebf28c-a405-4f9c-bde0-b99507d644d7",
   "metadata": {
    "editable": true,
    "slideshow": {
     "slide_type": ""
    },
    "tags": []
   },
   "source": [
    "(d) Use R to calculate the exact median."
   ]
  },
  {
   "cell_type": "code",
   "execution_count": null,
   "id": "a52bf66a-ebaa-4423-9f75-0ec0dd32b63a",
   "metadata": {
    "editable": true,
    "slideshow": {
     "slide_type": ""
    },
    "tags": []
   },
   "outputs": [],
   "source": []
  },
  {
   "cell_type": "code",
   "execution_count": 32,
   "id": "656e39a2-bf23-4708-8c68-b3286d765b21",
   "metadata": {
    "editable": true,
    "slideshow": {
     "slide_type": ""
    },
    "tags": [
     "solution"
    ]
   },
   "outputs": [
    {
     "data": {
      "text/html": [
       "98.3"
      ],
      "text/latex": [
       "98.3"
      ],
      "text/markdown": [
       "98.3"
      ],
      "text/plain": [
       "[1] 98.3"
      ]
     },
     "metadata": {},
     "output_type": "display_data"
    }
   ],
   "source": [
    "# Solution\n",
    "median(HumanTemp$Temp)"
   ]
  },
  {
   "cell_type": "markdown",
   "id": "5524dbf8-3b7d-4d33-b937-ab946adcb9cf",
   "metadata": {
    "editable": true,
    "slideshow": {
     "slide_type": ""
    },
    "tags": []
   },
   "source": [
    "(e) Use R to provide the five-number summary for the temperatures."
   ]
  },
  {
   "cell_type": "code",
   "execution_count": null,
   "id": "72e18205-1757-4f19-83e5-74be23aec1ef",
   "metadata": {
    "editable": true,
    "slideshow": {
     "slide_type": ""
    },
    "tags": []
   },
   "outputs": [],
   "source": []
  },
  {
   "cell_type": "code",
   "execution_count": 33,
   "id": "fe0347f6-514b-44e0-b41a-3bde5d61b16e",
   "metadata": {
    "editable": true,
    "slideshow": {
     "slide_type": ""
    },
    "tags": [
     "solution"
    ]
   },
   "outputs": [
    {
     "data": {
      "text/plain": [
       "   Min. 1st Qu.  Median    Mean 3rd Qu.    Max. \n",
       "  96.30   97.80   98.30   98.25   98.70  100.80 "
      ]
     },
     "metadata": {},
     "output_type": "display_data"
    }
   ],
   "source": [
    "# Solution\n",
    "summary(HumanTemp$Temp)"
   ]
  },
  {
   "cell_type": "markdown",
   "id": "564d35c0-51e9-4b78-a76d-979604368c92",
   "metadata": {
    "editable": true,
    "slideshow": {
     "slide_type": ""
    },
    "tags": []
   },
   "source": [
    "(f) Make a histogram of the temperatures."
   ]
  },
  {
   "cell_type": "code",
   "execution_count": null,
   "id": "8d3213ed-3d47-4037-86ed-01cc29e2fbb6",
   "metadata": {
    "editable": true,
    "slideshow": {
     "slide_type": ""
    },
    "tags": []
   },
   "outputs": [],
   "source": []
  },
  {
   "cell_type": "code",
   "execution_count": 34,
   "id": "304cd443-4149-4eae-ab17-5e8e60ed82f8",
   "metadata": {
    "editable": true,
    "slideshow": {
     "slide_type": ""
    },
    "tags": [
     "solution"
    ]
   },
   "outputs": [
    {
     "data": {
      "image/png": "[encoded data removed]",
      "text/plain": [
       "Plot with title “Histogram of HumanTemp$Temp”"
      ]
     },
     "metadata": {
      "image/png": {
       "height": 420,
       "width": 420
      }
     },
     "output_type": "display_data"
    }
   ],
   "source": [
    "# Solution\n",
    "hist(HumanTemp$Temp)"
   ]
  },
  {
   "cell_type": "markdown",
   "id": "9bc5a582-fcb7-4cb3-9321-b3137b32fa4f",
   "metadata": {
    "editable": true,
    "slideshow": {
     "slide_type": ""
    },
    "tags": []
   },
   "source": [
    "### Problem 6"
   ]
  },
  {
   "cell_type": "markdown",
   "id": "427bf429-9e44-496e-9cd0-de6b21eb2bd3",
   "metadata": {
    "editable": true,
    "slideshow": {
     "slide_type": ""
    },
    "tags": []
   },
   "source": [
    "(a) If we were to randomly sample 50 values from $N(0, 1)$ and create a Q-Q plot, what should we see (approximately) in the plot?"
   ]
  },
  {
   "cell_type": "markdown",
   "id": "e65fa98e-ead4-4d6d-b108-e33b95d15739",
   "metadata": {
    "editable": true,
    "slideshow": {
     "slide_type": ""
    },
    "tags": []
   },
   "source": [
    "*Write your answer here. Double-click to edit.*"
   ]
  },
  {
   "cell_type": "markdown",
   "id": "44d698cf-bd73-4399-aaaa-8e5f578187c4",
   "metadata": {
    "editable": true,
    "slideshow": {
     "slide_type": ""
    },
    "tags": [
     "solution"
    ]
   },
   "source": [
    "*Solution.* We should see an approximately straight line."
   ]
  },
  {
   "cell_type": "markdown",
   "id": "f6b19bc1-d36f-4681-8887-67665f2571d7",
   "metadata": {
    "editable": true,
    "slideshow": {
     "slide_type": ""
    },
    "tags": []
   },
   "source": [
    "(b) The R code below generates 50 values from $N(0, 1)$ and makes the corresponding Q-Q plot. Run this code. "
   ]
  },
  {
   "cell_type": "code",
   "execution_count": 35,
   "id": "c036c397-2706-4784-a90b-f20362f445a2",
   "metadata": {
    "editable": true,
    "slideshow": {
     "slide_type": ""
    },
    "tags": []
   },
   "outputs": [
    {
     "data": {
      "image/png": "[encoded data removed]",
      "text/plain": [
       "Plot with title “Normal Q-Q Plot”"
      ]
     },
     "metadata": {
      "image/png": {
       "height": 420,
       "width": 420
      }
     },
     "output_type": "display_data"
    }
   ],
   "source": [
    "x <- rnorm(50, mean = 0, sd = 1)\n",
    "qqnorm(x)"
   ]
  },
  {
   "cell_type": "markdown",
   "id": "2b0cd04d-88f5-4c31-bec6-30ab3d8ac40e",
   "metadata": {
    "editable": true,
    "slideshow": {
     "slide_type": ""
    },
    "tags": []
   },
   "source": [
    "(c) Run the code in part (b) several times.\n",
    "We know the data comes from $N(0, 1)$, so these are all examples of what a Q-Q plot may look like when the data truly comes from a Normal distribution."
   ]
  },
  {
   "cell_type": "markdown",
   "id": "13119262-e5b7-4bab-ae55-6aaa8093a3c7",
   "metadata": {
    "editable": true,
    "slideshow": {
     "slide_type": ""
    },
    "tags": []
   },
   "source": [
    "(d) The R code below generates 50 values from an Exponential distribution with parameter $\\lambda = 0.1$ and creates the corresponding Q-Q plot.\n",
    "Run this code. What shape do you see in the Q-Q plot? This is an example of a Q-Q plot when the data truly does not come from a Normal distribution."
   ]
  },
  {
   "cell_type": "code",
   "execution_count": 36,
   "id": "d7fb1cef-c4cc-42ac-9a8d-3adf0405e12c",
   "metadata": {
    "editable": true,
    "slideshow": {
     "slide_type": ""
    },
    "tags": []
   },
   "outputs": [
    {
     "data": {
      "image/png": "[encoded data removed]",
      "text/plain": [
       "Plot with title “Normal Q-Q Plot”"
      ]
     },
     "metadata": {
      "image/png": {
       "height": 420,
       "width": 420
      }
     },
     "output_type": "display_data"
    }
   ],
   "source": [
    "y <- rexp(50, 0.1)\n",
    "qqnorm(y)"
   ]
  },
  {
   "cell_type": "markdown",
   "id": "7c5417df-bd03-4a32-a821-e37e9a316497",
   "metadata": {
    "editable": true,
    "slideshow": {
     "slide_type": ""
    },
    "tags": []
   },
   "source": [
    "*Write your answer here. Double-click to edit.*"
   ]
  },
  {
   "cell_type": "markdown",
   "id": "837fea71-29a2-42fe-9bda-e125e8aa203b",
   "metadata": {
    "editable": true,
    "slideshow": {
     "slide_type": ""
    },
    "tags": [
     "solution"
    ]
   },
   "source": [
    "*Solution.* We see a curved shape, kind of like half a parabola."
   ]
  }
 ],
 "metadata": {
  "kernelspec": {
   "display_name": "R",
   "language": "R",
   "name": "ir"
  },
  "language_info": {
   "codemirror_mode": "r",
   "file_extension": ".r",
   "mimetype": "text/x-r-source",
   "name": "R",
   "pygments_lexer": "r",
   "version": "4.3.2"
  }
 },
 "nbformat": 4,
 "nbformat_minor": 5
}
