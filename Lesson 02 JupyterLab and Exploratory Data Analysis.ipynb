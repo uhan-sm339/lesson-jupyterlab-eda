{
 "cells": [
  {
   "cell_type": "markdown",
   "id": "3f0d00a9-4682-48bc-9c26-c1e49322741c",
   "metadata": {
    "editable": true,
    "slideshow": {
     "slide_type": ""
    },
    "tags": []
   },
   "source": [
    "**SM339 &#x25aa; Applied Statistics &#x25aa; Spring 2024 &#x25aa; Uhan**"
   ]
  },
  {
   "cell_type": "markdown",
   "id": "b8f9c192-7d58-4e8f-869e-2e2a0133429e",
   "metadata": {},
   "source": [
    "# Lesson 2. JupyterLab and Exploratory Data Analysis"
   ]
  },
  {
   "cell_type": "markdown",
   "id": "34b4cb5f-44ad-4375-b088-22e9998bd334",
   "metadata": {},
   "source": [
    "## What is JupyterLab?"
   ]
  },
  {
   "cell_type": "markdown",
   "id": "ed452c55-b82f-4ba7-b0ae-2a75836d044f",
   "metadata": {},
   "source": [
    "* [__JupyterLab__](https://jupyter.org/) is an interactive computational environment where you can combine code, text and graphs in __notebooks__\n",
    "\n",
    "* You're looking at a Jupyter notebook right now!\n",
    "\n",
    "* We'll be using JupyterLab with the [__R__](https://www.r-project.org/) programming language in this course"
   ]
  },
  {
   "cell_type": "markdown",
   "id": "5e28b289-1590-477d-8923-0dc09acd18c7",
   "metadata": {},
   "source": [
    "### Structure of a notebook document"
   ]
  },
  {
   "cell_type": "markdown",
   "id": "b9239c10-a15d-4da3-ab52-d9776d91ef3c",
   "metadata": {
    "editable": true,
    "slideshow": {
     "slide_type": ""
    },
    "tags": []
   },
   "source": [
    "* A notebook consists of a sequence of __cells__ of different types\n",
    "\n",
    "* We'll use two types of cells frequently:  \n",
    "    * code cells\n",
    "    * Markdown cells"
   ]
  },
  {
   "cell_type": "markdown",
   "id": "cdbb52e5-2d01-4699-9423-f7db10e9aa62",
   "metadata": {
    "editable": true,
    "slideshow": {
     "slide_type": ""
    },
    "tags": []
   },
   "source": [
    "* You can determine the type of a cell in the toolbar\n",
    "\n",
    "* You can run a cell by:\n",
    "    * clicking the <kbd><i class=\"fa fa-play\" aria-hidden=\"true\"></i></kbd> button in the toolbar\n",
    "    * selecting __Run &#8594; Run Selected Cells__ in the menu bar\n",
    "    * pressing <kbd>Shift</kbd>-<kbd>Enter</kbd>"
   ]
  },
  {
   "cell_type": "markdown",
   "id": "7e387ecd-58fa-40d8-a580-374262400529",
   "metadata": {
    "editable": true,
    "slideshow": {
     "slide_type": ""
    },
    "tags": []
   },
   "source": [
    "### Code cells"
   ]
  },
  {
   "cell_type": "markdown",
   "id": "05befcdc-c164-4a1c-ac48-2311aa12c2d3",
   "metadata": {
    "editable": true,
    "slideshow": {
     "slide_type": ""
    },
    "tags": []
   },
   "source": [
    "* In a __code cell__, you can edit and write R code\n",
    "\n",
    "* For example, we can print a simple message:"
   ]
  },
  {
   "cell_type": "code",
   "execution_count": null,
   "id": "57b7191f-b2d4-4fe6-8969-0b63ea1b5eb3",
   "metadata": {
    "editable": true,
    "slideshow": {
     "slide_type": ""
    },
    "tags": []
   },
   "outputs": [],
   "source": []
  },
  {
   "cell_type": "markdown",
   "id": "8046a488-7f6f-4e5e-b044-bda7322be530",
   "metadata": {
    "editable": true,
    "slideshow": {
     "slide_type": ""
    },
    "tags": []
   },
   "source": [
    "* We'll get more involved with R shortly\n",
    "\n",
    "\n",
    "* Note that a code cell has \n",
    "    * an __input__ section containing your code\n",
    "    * an __output__ section after executing the cell"
   ]
  },
  {
   "cell_type": "markdown",
   "id": "b50af5ba-920c-4d59-8e29-9e0bffac5314",
   "metadata": {
    "editable": true,
    "slideshow": {
     "slide_type": ""
    },
    "tags": []
   },
   "source": [
    "### Markdown cells"
   ]
  },
  {
   "cell_type": "markdown",
   "id": "6e80a37f-f43a-4369-bc56-33bb1f9a7e7e",
   "metadata": {
    "editable": true,
    "slideshow": {
     "slide_type": ""
    },
    "tags": []
   },
   "source": [
    "* In a __Markdown cell__, you can enter text to write notes about your code and document your workflow\n",
    "\n",
    "* For example, this cell is a Markdown cell\n",
    "\n",
    "* The __Markdown__ language is a popular way to provide formatting (e.g. bold, italics, lists) to plain text\n",
    "    * Use Google to find documentation and tutorials. [Here's a pretty good cheat sheet.](https://github.com/adam-p/markdown-here/wiki/Markdown-Cheatsheet)"
   ]
  },
  {
   "cell_type": "markdown",
   "id": "7f311035-e971-4f83-b03c-bc3e91898e61",
   "metadata": {
    "editable": true,
    "slideshow": {
     "slide_type": ""
    },
    "tags": []
   },
   "source": [
    "* For now, here are a few basic, useful Markdown constructs:\n",
    "\n",
    "```\n",
    "You can format text as italic with *asterisks* or _underscores_.\n",
    "\n",
    "You can format text as bold with **double asterisks** or __double underscores__.\n",
    "\n",
    "To write an bulleted list, use *, -, or + as bullets, like this:\n",
    "\n",
    "* One\n",
    "* Two\n",
    "* Three\n",
    "```\n",
    "\n",
    "\n",
    "* To edit a Markdown cell, double-click it \n",
    "\n",
    "\n",
    "* When you're done editing it, run the cell\n",
    "\n",
    "\n",
    "* Try it in the cell below:"
   ]
  },
  {
   "cell_type": "markdown",
   "id": "051aa863-9af4-496c-b855-3bc7fde4a00c",
   "metadata": {
    "editable": true,
    "slideshow": {
     "slide_type": ""
    },
    "tags": []
   },
   "source": [
    "*Double-click to edit this cell. Try out Markdown here.*"
   ]
  },
  {
   "cell_type": "markdown",
   "id": "fe079759-1316-458f-a4b5-409f3488cd2a",
   "metadata": {
    "editable": true,
    "slideshow": {
     "slide_type": ""
    },
    "tags": []
   },
   "source": [
    "### Manipulating cells"
   ]
  },
  {
   "cell_type": "markdown",
   "id": "93621fea-664c-49de-a15c-863401e23b53",
   "metadata": {
    "editable": true,
    "slideshow": {
     "slide_type": ""
    },
    "tags": []
   },
   "source": [
    "* You can insert a new cell by clicking the <kbd>+</kbd> button in the toolbar\n",
    "\n",
    "\n",
    "* You can copy and paste cells using the __Edit__ menu\n",
    "\n",
    "\n",
    "* You can also split, merge, move, and delete cells using the __Edit__ menu\n",
    "\n",
    "\n",
    "* You can also move cells around with your mouse: click on the left part of a cell and drag it to where you want it"
   ]
  },
  {
   "cell_type": "markdown",
   "id": "2d5b6be6-a0dc-4c63-b5a2-b467daf67465",
   "metadata": {
    "editable": true,
    "slideshow": {
     "slide_type": ""
    },
    "tags": []
   },
   "source": [
    "### Saving your notebook"
   ]
  },
  {
   "cell_type": "markdown",
   "id": "a2303662-fabd-47ae-9539-75cdbb9bb3a7",
   "metadata": {
    "editable": true,
    "slideshow": {
     "slide_type": ""
    },
    "tags": []
   },
   "source": [
    "* JupyterLab autosaves your notebook every few minutes\n",
    "    * Check __Settings &#8594; Autosave Documents__ to make sure this setting is turned on"
   ]
  },
  {
   "cell_type": "markdown",
   "id": "99b3191f-be08-4d8a-9e17-023aab0f3d2d",
   "metadata": {
    "editable": true,
    "slideshow": {
     "slide_type": ""
    },
    "tags": []
   },
   "source": [
    "* To manually save, click the <kbd><i class=\"fa fa-floppy-o\"></i></kbd> icon, or select __File &#8594; Save Notebook__\n",
    "\n",
    "* When you're done, you can shut down JupyterLab by selecting __File &#8594; Shut Down__"
   ]
  },
  {
   "cell_type": "markdown",
   "id": "91baa5b3-b831-4f2f-95d4-1d9a6ba8e80b",
   "metadata": {
    "editable": true,
    "slideshow": {
     "slide_type": ""
    },
    "tags": []
   },
   "source": [
    "<hr style=\"border-top: 2px solid gray; margin-top: 12px; margin-bottom: 1px\"></hr>"
   ]
  },
  {
   "cell_type": "markdown",
   "id": "59e0c934-277c-40e2-b13d-4d69242f5f37",
   "metadata": {
    "editable": true,
    "slideshow": {
     "slide_type": ""
    },
    "tags": []
   },
   "source": [
    "## Random variables and distributions in R"
   ]
  },
  {
   "cell_type": "markdown",
   "id": "fa4b47e2-a9ba-48a4-86a5-7c95c97c67a9",
   "metadata": {
    "editable": true,
    "slideshow": {
     "slide_type": ""
    },
    "tags": []
   },
   "source": [
    "* Recall from the previous lesson...\n",
    "\n",
    "* Let $X$ be a continuous random variable with some distribution\n",
    "\n",
    "* The __cdf__ of $X$ is $F_X(x) = P(X \\le x)$\n",
    "\n",
    "* The __pdf__ of $X$ is $f_X(x) = \\dfrac{d}{dx} F(x)$\n",
    "\n",
    "* The __$p$-quantile__ of $X$ is the value $a$ such that $F_X(a) = P(X \\le a) = p$\n",
    "\n",
    "* R has functions to compute the cdf, pdf, and quantiles for many common (and uncommon) distributions"
   ]
  },
  {
   "cell_type": "markdown",
   "id": "5c8c7f09-1251-4fda-be17-af668e00128e",
   "metadata": {
    "editable": true,
    "slideshow": {
     "slide_type": ""
    },
    "tags": []
   },
   "source": [
    "* Suppose $X \\sim N(2, 8)$\n",
    "    * i.e., a normal distribution with mean $\\mu = 2$ and variance $\\sigma^2 = 8$"
   ]
  },
  {
   "cell_type": "markdown",
   "id": "02730b34-9707-43af-a026-d82ca6657632",
   "metadata": {
    "editable": true,
    "slideshow": {
     "slide_type": ""
    },
    "tags": []
   },
   "source": [
    "* We can find $F_X(3) = P(X \\le 3)$ in R like this:"
   ]
  },
  {
   "cell_type": "code",
   "execution_count": null,
   "id": "88f476c3-4ec1-4993-a4e7-828f17cd1fe7",
   "metadata": {
    "editable": true,
    "slideshow": {
     "slide_type": ""
    },
    "tags": []
   },
   "outputs": [],
   "source": []
  },
  {
   "cell_type": "markdown",
   "id": "b55d764f-b2db-477c-b524-1d8fcc76343b",
   "metadata": {
    "editable": true,
    "slideshow": {
     "slide_type": ""
    },
    "tags": []
   },
   "source": [
    "* We can find $f_X(3)$, the pdf value at 3 for $X \\sim N(2, 8)$, like this:"
   ]
  },
  {
   "cell_type": "code",
   "execution_count": null,
   "id": "71dd45ac-d910-49c9-bdb0-40aa322fcbea",
   "metadata": {
    "editable": true,
    "slideshow": {
     "slide_type": ""
    },
    "tags": []
   },
   "outputs": [],
   "source": []
  },
  {
   "cell_type": "markdown",
   "id": "a2ff18ad-8b27-4e8b-8fb1-009a533e02aa",
   "metadata": {
    "editable": true,
    "slideshow": {
     "slide_type": ""
    },
    "tags": []
   },
   "source": [
    "* We can also find the 0.75-quantile of $X \\sim N(2, 8)$ like this: "
   ]
  },
  {
   "cell_type": "code",
   "execution_count": null,
   "id": "5944c163-4fc7-4f81-a5d3-d548408d97c9",
   "metadata": {},
   "outputs": [],
   "source": []
  },
  {
   "cell_type": "markdown",
   "id": "f4939175-a101-45c5-a338-e899447d508f",
   "metadata": {
    "editable": true,
    "slideshow": {
     "slide_type": ""
    },
    "tags": []
   },
   "source": [
    "- In general in R:\n",
    "\n",
    "    - cdf functions start with `p`: e.g., `pnorm`, `pt`, `punif`\n",
    "    \n",
    "    - pdf functions start with `d`: e.g., `dnorm`, `dt`, `dunif`\n",
    "    \n",
    "    - quantile functions start with `q`: e.g., `qnorm`, `qt`, `qunif`"
   ]
  },
  {
   "cell_type": "markdown",
   "id": "550b7615-229a-4cf2-a9fd-b90a66ceab1a",
   "metadata": {
    "editable": true,
    "slideshow": {
     "slide_type": ""
    },
    "tags": []
   },
   "source": [
    "<hr style=\"border-top: 2px solid gray; margin-top: 12px; margin-bottom: 1px\"></hr>"
   ]
  },
  {
   "cell_type": "markdown",
   "id": "a7045d01-4e18-45c9-b852-1e7745cb8c68",
   "metadata": {},
   "source": [
    "## An introduction to exploratory data analysis"
   ]
  },
  {
   "cell_type": "markdown",
   "id": "a6d8ea20-b279-41de-a580-2bf0a488f9b2",
   "metadata": {
    "editable": true,
    "slideshow": {
     "slide_type": ""
    },
    "tags": []
   },
   "source": [
    "* Before we do formal analysis, we want a big picture idea of what's going on with the data\n",
    "\n",
    "* This is called __exploratory data analysis__\n",
    "\n",
    "* For now, we will focus on one variable at a time"
   ]
  },
  {
   "cell_type": "markdown",
   "id": "038c6e3c-2e93-4a9e-a82b-178ff06a9855",
   "metadata": {
    "editable": true,
    "slideshow": {
     "slide_type": ""
    },
    "tags": []
   },
   "source": [
    "### Reading data into R"
   ]
  },
  {
   "cell_type": "markdown",
   "id": "13db1ad6-b5f3-46bc-9bd2-a50e6160d2f1",
   "metadata": {
    "editable": true,
    "slideshow": {
     "slide_type": ""
    },
    "tags": []
   },
   "source": [
    "* R can read data in a variety of formats\n",
    "\n",
    "* One of the most common formats for tabular data is the __CSV file__\n",
    "\n",
    "* CSV stands for __comma-separated values__\n",
    "\n",
    "* In the same folder as this notebook, there is a CSV file `data/Michelson.csv`\n",
    "\n",
    "* Let's see what this data looks like, using JupyterLab's file viewer..."
   ]
  },
  {
   "cell_type": "markdown",
   "id": "71b6d5e8-29a3-4710-b6f2-4f1a3d56080c",
   "metadata": {
    "editable": true,
    "slideshow": {
     "slide_type": ""
    },
    "tags": []
   },
   "source": [
    "* An R __data frame__ is a two-dimensional table, with rows and columns\n",
    "\n",
    "* Sometimes we refer to the columns as _variables_ and the rows as *observations*, since tabular data is commonly set up this way\n",
    "\n",
    "* We can read the data in `data/Michelson.csv` into a R data frame (a.k.a. table) called `Michelson` like this: "
   ]
  },
  {
   "cell_type": "code",
   "execution_count": null,
   "id": "f12ee63f-af0b-4cfa-95ee-583b88f147a2",
   "metadata": {
    "editable": true,
    "slideshow": {
     "slide_type": ""
    },
    "tags": []
   },
   "outputs": [],
   "source": []
  },
  {
   "cell_type": "markdown",
   "id": "db0bdd2d-2d5e-4366-8c13-1ca489d10711",
   "metadata": {
    "editable": true,
    "slideshow": {
     "slide_type": ""
    },
    "tags": []
   },
   "source": [
    "* We can use the `head()` function to examine the first few rows of `Michelson`: "
   ]
  },
  {
   "cell_type": "code",
   "execution_count": null,
   "id": "c1a240f4-6d71-4703-ac27-f727dd2ddd60",
   "metadata": {
    "editable": true,
    "slideshow": {
     "slide_type": ""
    },
    "tags": []
   },
   "outputs": [],
   "source": []
  },
  {
   "cell_type": "markdown",
   "id": "a94aa7ef-286a-4f6d-a393-dc1fe8e3ddcf",
   "metadata": {
    "editable": true,
    "slideshow": {
     "slide_type": ""
    },
    "tags": []
   },
   "source": [
    "* We can access the `Velocity` variable of the `Michelson` data frame like this:"
   ]
  },
  {
   "cell_type": "code",
   "execution_count": null,
   "id": "e82895c0-d98f-4826-9f60-8323833605e3",
   "metadata": {
    "editable": true,
    "slideshow": {
     "slide_type": ""
    },
    "tags": []
   },
   "outputs": [],
   "source": []
  },
  {
   "cell_type": "markdown",
   "id": "f420a28d-0f29-47b1-bc3d-78a5e8fa219e",
   "metadata": {
    "editable": true,
    "slideshow": {
     "slide_type": ""
    },
    "tags": []
   },
   "source": [
    "### The five-number summary"
   ]
  },
  {
   "cell_type": "markdown",
   "id": "64cba4e4-a6b9-47f6-acfc-97feea60b773",
   "metadata": {
    "editable": true,
    "slideshow": {
     "slide_type": ""
    },
    "tags": []
   },
   "source": [
    "* The __five-number summary__ of a variable gives us a quick snapshot of how the observations are distributed:\n",
    "\n",
    "    1. __minimum__: the lowest data value\n",
    "    \n",
    "    2. __1st quartile (Q1)__: 25\\% of the data lie below this data value\n",
    "    \n",
    "    3. __median__: the \"middle\" data value; also the 2nd quartile\n",
    "    \n",
    "    4. __3rd quartile (Q3)__: 75\\% of the data lie below this data value\n",
    "    \n",
    "    5. __maximum__: the largest data value"
   ]
  },
  {
   "cell_type": "markdown",
   "id": "77a9a68b-e302-4317-82e4-f34e2688aaa7",
   "metadata": {
    "editable": true,
    "slideshow": {
     "slide_type": ""
    },
    "tags": []
   },
   "source": [
    "* In R, we can get a five-number summary of the `Velocity` variable in the `Michelson` data frame like this:"
   ]
  },
  {
   "cell_type": "code",
   "execution_count": null,
   "id": "fa62d047-a7c8-40af-8692-bb46be91000d",
   "metadata": {
    "editable": true,
    "slideshow": {
     "slide_type": ""
    },
    "tags": []
   },
   "outputs": [],
   "source": []
  },
  {
   "cell_type": "markdown",
   "id": "d67bf5ec-8bab-4373-8893-89105ab1d22d",
   "metadata": {
    "editable": true,
    "slideshow": {
     "slide_type": ""
    },
    "tags": []
   },
   "source": [
    "* We can also get these values with their individual functions in R: "
   ]
  },
  {
   "cell_type": "code",
   "execution_count": null,
   "id": "3810188a-6348-4463-80d1-14fbf2acf9a8",
   "metadata": {
    "editable": true,
    "slideshow": {
     "slide_type": ""
    },
    "tags": []
   },
   "outputs": [],
   "source": []
  },
  {
   "cell_type": "markdown",
   "id": "6e5955fa-01bd-40a8-bc1d-8344b1100f9a",
   "metadata": {
    "editable": true,
    "slideshow": {
     "slide_type": ""
    },
    "tags": []
   },
   "source": [
    "### Other summary statistics"
   ]
  },
  {
   "cell_type": "markdown",
   "id": "46cf6c6e-53b2-4abe-94a8-7414e29fd330",
   "metadata": {
    "editable": true,
    "slideshow": {
     "slide_type": ""
    },
    "tags": []
   },
   "source": [
    "- Some other common summary statistics:\n",
    "\n",
    "    * __mean__: the average data value\n",
    "\n",
    "    * __variance, standard deviation__: describe the spread of the data\n",
    "    \n",
    "    * __$k$th percentile__: $k$% of the data lie below this value"
   ]
  },
  {
   "cell_type": "markdown",
   "id": "fdab6f68-7e5b-4a33-bf8a-3038ba48111d",
   "metadata": {
    "editable": true,
    "slideshow": {
     "slide_type": ""
    },
    "tags": []
   },
   "source": [
    "* In R, we can compute the 60th percentile of the `Velocity` variable like this:"
   ]
  },
  {
   "cell_type": "code",
   "execution_count": null,
   "id": "365ea38c-ddde-441f-8ed2-e1ad6a0883aa",
   "metadata": {
    "editable": true,
    "slideshow": {
     "slide_type": ""
    },
    "tags": []
   },
   "outputs": [],
   "source": []
  },
  {
   "cell_type": "markdown",
   "id": "ed9a92b4-c788-4934-abbe-c360ebfe942f",
   "metadata": {
    "editable": true,
    "slideshow": {
     "slide_type": ""
    },
    "tags": []
   },
   "source": [
    "* Similarly, we can compute the mean and standard deviation of the `Velocity` variable like this:"
   ]
  },
  {
   "cell_type": "code",
   "execution_count": null,
   "id": "62c0db51-b3f5-4262-910f-7618a2100d18",
   "metadata": {
    "editable": true,
    "slideshow": {
     "slide_type": ""
    },
    "tags": []
   },
   "outputs": [],
   "source": []
  },
  {
   "cell_type": "markdown",
   "id": "49073534-9b9a-4bd2-bbb1-1dfca163cb5d",
   "metadata": {
    "editable": true,
    "slideshow": {
     "slide_type": ""
    },
    "tags": []
   },
   "source": [
    "### Tables"
   ]
  },
  {
   "cell_type": "markdown",
   "id": "8d8a6def-349b-4888-9612-f619e3c42869",
   "metadata": {
    "editable": true,
    "slideshow": {
     "slide_type": ""
    },
    "tags": []
   },
   "source": [
    "* Tables are commonly used to summarize categorical variables\n",
    "\n",
    "* We can create a __one-way table__ that tabulates the number of `am` and `pm` values in the `Time` variable, like this: "
   ]
  },
  {
   "cell_type": "code",
   "execution_count": null,
   "id": "902fe9d3-3393-4272-bb8e-e7d61ceac128",
   "metadata": {
    "editable": true,
    "slideshow": {
     "slide_type": ""
    },
    "tags": []
   },
   "outputs": [],
   "source": []
  },
  {
   "cell_type": "markdown",
   "id": "9ad60eba-6290-473a-9b13-1cee2e8dac8c",
   "metadata": {},
   "source": [
    "* We can create a __two-way table__ for the values in the `Time` and `Image` variables, like this: "
   ]
  },
  {
   "cell_type": "code",
   "execution_count": null,
   "id": "03f8b5cb-bb66-4be7-81d4-3d87916cecd8",
   "metadata": {},
   "outputs": [],
   "source": []
  },
  {
   "cell_type": "markdown",
   "id": "144b71ae-15f1-4d53-b65d-e672923bdb2c",
   "metadata": {},
   "source": [
    "### Graphics"
   ]
  },
  {
   "cell_type": "markdown",
   "id": "e9fe8774-f724-4322-9872-74f3edcb7eb1",
   "metadata": {},
   "source": [
    "#### Histogram"
   ]
  },
  {
   "cell_type": "markdown",
   "id": "07771106-6fdf-4ee4-9998-81639b977782",
   "metadata": {
    "editable": true,
    "slideshow": {
     "slide_type": ""
    },
    "tags": []
   },
   "source": [
    "* A __histogram__ divides the data values into \"bins\" and plots the relative frequency of data values in each bin\n",
    "\n",
    "* A histogram helps us see the _shape_ of the distribution (e.g., symmetric or skewed) and _potential outliers_ (extreme values far away from most of the data)\n",
    "\n",
    "* We can create a histogram of the values in the `Velocity` variable, like this:"
   ]
  },
  {
   "cell_type": "code",
   "execution_count": null,
   "id": "9fd6a320-91ee-4cc5-af9f-99bcabd37280",
   "metadata": {
    "editable": true,
    "slideshow": {
     "slide_type": ""
    },
    "tags": []
   },
   "outputs": [],
   "source": []
  },
  {
   "cell_type": "markdown",
   "id": "4ee58010-07b2-4406-8ce1-c9bd0a44bd19",
   "metadata": {
    "editable": true,
    "slideshow": {
     "slide_type": ""
    },
    "tags": []
   },
   "source": [
    "* We can change the number of bin widths used, like this:"
   ]
  },
  {
   "cell_type": "code",
   "execution_count": null,
   "id": "ee1b0d4c-21cc-4a9f-8995-6f2296c140aa",
   "metadata": {},
   "outputs": [],
   "source": []
  },
  {
   "cell_type": "markdown",
   "id": "e0eb6639-a4fa-4455-aa32-5f56135a88de",
   "metadata": {
    "editable": true,
    "slideshow": {
     "slide_type": ""
    },
    "tags": []
   },
   "source": [
    "#### Boxplot"
   ]
  },
  {
   "cell_type": "markdown",
   "id": "59ccea69-9ccf-427f-990b-5973747e3aa3",
   "metadata": {},
   "source": [
    "* A __boxplot__ is a visual representation of the five-number summary\n",
    "\n",
    "<img src=\"img/boxplot-annotated.jpg\" width=\"700\" />\n",
    "\n",
    "* A boxplot also helps us see the shape of the distribution and potential outliers\n",
    "\n",
    "* We can create a boxplot of the values in the `Velocity` column, like this:"
   ]
  },
  {
   "cell_type": "code",
   "execution_count": null,
   "id": "c397653d-16b8-490b-9c73-82442cf0e59e",
   "metadata": {},
   "outputs": [],
   "source": []
  },
  {
   "cell_type": "markdown",
   "id": "c2012a6a-892d-4f12-ba32-de6b1b23577c",
   "metadata": {},
   "source": [
    "* We can make the boxplot horizontal instead, like this:"
   ]
  },
  {
   "cell_type": "code",
   "execution_count": null,
   "id": "114881f1-83f4-4ef3-afa0-de1985fca701",
   "metadata": {
    "editable": true,
    "slideshow": {
     "slide_type": ""
    },
    "tags": []
   },
   "outputs": [],
   "source": []
  },
  {
   "cell_type": "markdown",
   "id": "aff73052-b5d5-4e38-8ef1-6bce2b26368a",
   "metadata": {
    "editable": true,
    "slideshow": {
     "slide_type": ""
    },
    "tags": []
   },
   "source": [
    "#### Normal Q-Q plot"
   ]
  },
  {
   "cell_type": "markdown",
   "id": "52699ee6-5e2e-4560-9b93-a56f2a8a1450",
   "metadata": {
    "editable": true,
    "slideshow": {
     "slide_type": ""
    },
    "tags": []
   },
   "source": [
    "* A __normal Q-Q plot__ plots the quantiles of a normal distribution versus the data quantiles\n",
    "\n",
    "\n",
    "* A normal Q-Q plot is used to _check for normality_ \n",
    "    - If the points follow an approximately straight line, then it is reasonable to assume that the data came from a (close to) normal distribution"
   ]
  },
  {
   "cell_type": "markdown",
   "id": "c3943847-1c41-4f3f-875c-db9e075e5e24",
   "metadata": {
    "editable": true,
    "slideshow": {
     "slide_type": ""
    },
    "tags": []
   },
   "source": [
    "* We can create a Normal Q-Q plot of the values in the `Velocity` vector as follows:"
   ]
  },
  {
   "cell_type": "code",
   "execution_count": null,
   "id": "2f2e8506-beee-4e99-9c35-ed2e7044df9b",
   "metadata": {
    "editable": true,
    "slideshow": {
     "slide_type": ""
    },
    "tags": []
   },
   "outputs": [],
   "source": []
  },
  {
   "cell_type": "markdown",
   "id": "0d02238c-e969-4fc8-bbb6-a8199ff331e8",
   "metadata": {
    "editable": true,
    "slideshow": {
     "slide_type": ""
    },
    "tags": []
   },
   "source": [
    "<hr style=\"border-top: 2px solid gray; margin-top: 1px; margin-bottom: 1px\"></hr>"
   ]
  },
  {
   "cell_type": "markdown",
   "id": "fd1052ef-ed33-443f-bf9d-679f2c3b1968",
   "metadata": {
    "editable": true,
    "slideshow": {
     "slide_type": ""
    },
    "tags": []
   },
   "source": [
    "## Exercises"
   ]
  },
  {
   "cell_type": "markdown",
   "id": "fcb46006-797e-4397-a592-5a448ff032e0",
   "metadata": {
    "editable": true,
    "slideshow": {
     "slide_type": ""
    },
    "tags": []
   },
   "source": [
    "### Problem 1\n",
    "\n",
    "If $X$ has a $t$-distribution with 8 degrees of freedom (i.e., $t(8)$), we can find the $p$-quantile of $X$ in R using `qt(p, df = 8)`.\n",
    "\n",
    "For example, we can find $a$ such that $P(X \\le a) = 0.95$ like this:"
   ]
  },
  {
   "cell_type": "code",
   "execution_count": null,
   "id": "2b96c888-ef3f-46b8-877b-53aaca5b3517",
   "metadata": {
    "editable": true,
    "slideshow": {
     "slide_type": ""
    },
    "tags": []
   },
   "outputs": [],
   "source": [
    "qt(0.95, df = 8)"
   ]
  },
  {
   "cell_type": "markdown",
   "id": "3c700809-024f-4096-9c78-d7db22b2ee00",
   "metadata": {
    "editable": true,
    "slideshow": {
     "slide_type": ""
    },
    "tags": []
   },
   "source": [
    "Find $a$ for each of the following."
   ]
  },
  {
   "cell_type": "markdown",
   "id": "e2dfa37d-6295-413f-ae52-e4978d3fea40",
   "metadata": {
    "editable": true,
    "slideshow": {
     "slide_type": ""
    },
    "tags": []
   },
   "source": [
    "(a) $P(X > a) = 0.95$"
   ]
  },
  {
   "cell_type": "code",
   "execution_count": null,
   "id": "8c4534ca-daa7-41cb-b018-5584f65662e4",
   "metadata": {
    "editable": true,
    "slideshow": {
     "slide_type": ""
    },
    "tags": []
   },
   "outputs": [],
   "source": []
  },
  {
   "cell_type": "markdown",
   "id": "124b0122-cfa7-4bba-8cbc-828e0fe06f2f",
   "metadata": {
    "editable": true,
    "slideshow": {
     "slide_type": ""
    },
    "tags": []
   },
   "source": [
    "(b) $P(X < a) = 0.10$"
   ]
  },
  {
   "cell_type": "code",
   "execution_count": null,
   "id": "8274f50f-68a5-4f4a-941a-642250b9d2e3",
   "metadata": {
    "editable": true,
    "slideshow": {
     "slide_type": ""
    },
    "tags": []
   },
   "outputs": [],
   "source": []
  },
  {
   "cell_type": "markdown",
   "id": "b4f819c5-03f0-4160-8122-d1201e357abb",
   "metadata": {
    "editable": true,
    "slideshow": {
     "slide_type": ""
    },
    "tags": []
   },
   "source": [
    "(c) $P(X > a) = 0.10$"
   ]
  },
  {
   "cell_type": "code",
   "execution_count": null,
   "id": "95d8e089-f70b-4e47-8e12-56687e213867",
   "metadata": {
    "editable": true,
    "slideshow": {
     "slide_type": ""
    },
    "tags": []
   },
   "outputs": [],
   "source": []
  },
  {
   "cell_type": "markdown",
   "id": "b3031b50-2b7a-4b06-894f-43ed308f0d2f",
   "metadata": {
    "editable": true,
    "slideshow": {
     "slide_type": ""
    },
    "tags": []
   },
   "source": [
    "(d) $P(X < a) = 0.5$"
   ]
  },
  {
   "cell_type": "code",
   "execution_count": null,
   "id": "fa30d069-db9c-4381-a255-f0ba57d36ac4",
   "metadata": {
    "editable": true,
    "slideshow": {
     "slide_type": ""
    },
    "tags": []
   },
   "outputs": [],
   "source": []
  },
  {
   "cell_type": "markdown",
   "id": "939cd713-1b16-4b4d-97b7-8f0b40157300",
   "metadata": {
    "editable": true,
    "slideshow": {
     "slide_type": ""
    },
    "tags": []
   },
   "source": [
    "### Problem 2"
   ]
  },
  {
   "cell_type": "markdown",
   "id": "f7e1d84f-a01c-42ae-aed0-6dc4a3f6d343",
   "metadata": {
    "editable": true,
    "slideshow": {
     "slide_type": ""
    },
    "tags": []
   },
   "source": [
    "We can plot the pdf of $X \\sim N(2, 8)$ in R with the following steps:\n",
    "\n",
    "1. Create a sequence of x values, like this:\n",
    "    \n",
    "    ```r\n",
    "    xx <- seq(from = -5, to = 5, by = 0.1)\n",
    "    ```\n",
    "    <br>\n",
    "\n",
    "2. Find the pdf value for each of these x values using `dnorm`, like this:\n",
    "    \n",
    "    ```r\n",
    "    pdf <- dnorm(xx, mean = 2, sd = sqrt(8))\n",
    "    ```\n",
    "    <br>\n",
    "        \n",
    "3. Plot the x values vs. the pdf values, like this:\n",
    "    \n",
    "   ```r\n",
    "   plot(xx, pdf, type = \"l\")  # \"l\" for line\n",
    "   ```"
   ]
  },
  {
   "cell_type": "code",
   "execution_count": null,
   "id": "8a256a3f-20dc-462b-9d77-879c766fcd31",
   "metadata": {
    "editable": true,
    "slideshow": {
     "slide_type": ""
    },
    "tags": []
   },
   "outputs": [],
   "source": [
    "xx <- seq(from = -5, to = 5, by = 0.1)\n",
    "pdf <- dnorm(xx, mean = 2, sd = sqrt(8))\n",
    "plot(xx, pdf, type = \"l\")"
   ]
  },
  {
   "cell_type": "markdown",
   "id": "28c2389f-74cb-4d44-acd2-3498d37ad6ac",
   "metadata": {
    "editable": true,
    "slideshow": {
     "slide_type": ""
    },
    "tags": []
   },
   "source": [
    "The R code below creates a plot that overlays the pdfs for four normal distribution. \n",
    "Each normal distribution has a standard deviation of 1, and the means are 0, 1, 2, and 3.\n",
    "\n",
    "Run the R code below. What happens to the PDF as the mean increases?"
   ]
  },
  {
   "cell_type": "code",
   "execution_count": null,
   "id": "3fe1a312-e1bd-4297-97e4-a643b0c58251",
   "metadata": {
    "editable": true,
    "slideshow": {
     "slide_type": ""
    },
    "tags": []
   },
   "outputs": [],
   "source": [
    "xx <- seq(-5, 8, by=0.01)\n",
    "pdf0 <- dnorm(xx, mean = 0, sd = 1)\n",
    "pdf1 <- dnorm(xx, mean = 1, sd = 1)\n",
    "pdf2 <- dnorm(xx, mean = 2, sd = 1)\n",
    "pdf3 <- dnorm(xx, mean = 3, sd = 1)\n",
    "\n",
    "plot(xx, pdf0, type=\"l\")\n",
    "lines(xx, pdf1)\n",
    "lines(xx, pdf2)\n",
    "lines(xx, pdf3)"
   ]
  },
  {
   "cell_type": "markdown",
   "id": "e1b5fc98-2108-4671-8224-6773d7faaaa8",
   "metadata": {
    "editable": true,
    "slideshow": {
     "slide_type": ""
    },
    "tags": []
   },
   "source": [
    "*Write your answer here. Double-click to edit.*"
   ]
  },
  {
   "cell_type": "markdown",
   "id": "489a5a6c-5a02-4066-95a7-73aec097a8c3",
   "metadata": {
    "editable": true,
    "slideshow": {
     "slide_type": ""
    },
    "tags": []
   },
   "source": [
    "### Problem 3\n",
    "\n",
    "Modify the code in Problem 2 to create another plot that overlays the pdfs of four normal distributions. This time, they should all have the same mean 0, but the standard deviations should be 0.5, 1, 2, and 4. What happens to the PDF as the standard deviation increases?"
   ]
  },
  {
   "cell_type": "code",
   "execution_count": null,
   "id": "086a942b-0c6a-495d-bc14-47922509d4e8",
   "metadata": {
    "editable": true,
    "slideshow": {
     "slide_type": ""
    },
    "tags": []
   },
   "outputs": [],
   "source": []
  },
  {
   "cell_type": "markdown",
   "id": "0750bb79-5948-433b-8bd4-22a495140def",
   "metadata": {
    "editable": true,
    "slideshow": {
     "slide_type": ""
    },
    "tags": []
   },
   "source": [
    "*Write your answer here. Double-click to edit.*"
   ]
  },
  {
   "cell_type": "markdown",
   "id": "85beefca-093f-4328-8c9f-1bfd9c3868e6",
   "metadata": {
    "editable": true,
    "slideshow": {
     "slide_type": ""
    },
    "tags": []
   },
   "source": [
    "### Problem 4\n",
    "\n",
    "Suppose $X$ has a $t$-distribution with $d$ degrees of freedom.\n",
    "We can calculate the cdf $F_X(x)$ of $X$ with the R code `pt(x, df = d)`."
   ]
  },
  {
   "cell_type": "markdown",
   "id": "e76421dc-b47f-40b8-9122-9388ed0e0fe9",
   "metadata": {
    "editable": true,
    "slideshow": {
     "slide_type": ""
    },
    "tags": []
   },
   "source": [
    "(a) Compute $P(-1 < X < 1)$ for $d = 5, 20, 100$."
   ]
  },
  {
   "cell_type": "code",
   "execution_count": null,
   "id": "1c117757-bca1-4dc3-86d3-ec0e6fde6944",
   "metadata": {
    "editable": true,
    "slideshow": {
     "slide_type": ""
    },
    "tags": []
   },
   "outputs": [],
   "source": []
  },
  {
   "cell_type": "markdown",
   "id": "9c63bbcb-0aa8-43cc-ba74-96e648721030",
   "metadata": {
    "editable": true,
    "slideshow": {
     "slide_type": ""
    },
    "tags": []
   },
   "source": [
    "(b) Compare your answers from part (a) to $P(-1 < Z < 1)$ when $Z$ has a standard normal distribution (i.e., $Z \\sim N(0, 1)$. (See the lesson for how to compute the cdf of a normal distribution in R)."
   ]
  },
  {
   "cell_type": "code",
   "execution_count": null,
   "id": "abdef2d3-2a1a-4cfc-bbb1-8e22601e1a6c",
   "metadata": {
    "editable": true,
    "slideshow": {
     "slide_type": ""
    },
    "tags": []
   },
   "outputs": [],
   "source": []
  },
  {
   "cell_type": "markdown",
   "id": "2860814b-c394-4034-a6b4-8d5a31f9f63e",
   "metadata": {
    "editable": true,
    "slideshow": {
     "slide_type": ""
    },
    "tags": []
   },
   "source": [
    "### Problem 5"
   ]
  },
  {
   "cell_type": "markdown",
   "id": "e06a63eb-6b91-46db-9376-f9311a243c17",
   "metadata": {
    "editable": true,
    "slideshow": {
     "slide_type": ""
    },
    "tags": []
   },
   "source": [
    "In the same folder as this notebook, there is a file `data/HumanTemp.csv`.\n",
    "Recall that we can read the data in this file into a R data frame (a.k.a. table) called `HumanTemp` like this: "
   ]
  },
  {
   "cell_type": "code",
   "execution_count": null,
   "id": "c292a139-8f0d-493a-bb8d-00023d28aae7",
   "metadata": {
    "editable": true,
    "slideshow": {
     "slide_type": ""
    },
    "tags": []
   },
   "outputs": [],
   "source": [
    "HumanTemp <- read.table('data/HumanTemp.csv', header=TRUE, sep=',') "
   ]
  },
  {
   "cell_type": "markdown",
   "id": "9fa790a5-07ff-49e2-8620-58d80e414dbb",
   "metadata": {
    "editable": true,
    "slideshow": {
     "slide_type": ""
    },
    "tags": []
   },
   "source": [
    "(a) Display the first few  rows of `HumanTemp`. "
   ]
  },
  {
   "cell_type": "code",
   "execution_count": null,
   "id": "b8431816-724a-48b3-b148-6f9478171f7e",
   "metadata": {
    "editable": true,
    "slideshow": {
     "slide_type": ""
    },
    "tags": []
   },
   "outputs": [],
   "source": []
  },
  {
   "cell_type": "markdown",
   "id": "4ff34584-95c8-4f60-91a3-d9d3085284a7",
   "metadata": {
    "editable": true,
    "slideshow": {
     "slide_type": ""
    },
    "tags": []
   },
   "source": [
    "(b) Make a boxplot of the sampled temperatures."
   ]
  },
  {
   "cell_type": "code",
   "execution_count": null,
   "id": "60f7e8ab-d2b4-4173-b67a-6f1859aa7762",
   "metadata": {
    "editable": true,
    "slideshow": {
     "slide_type": ""
    },
    "tags": []
   },
   "outputs": [],
   "source": []
  },
  {
   "cell_type": "markdown",
   "id": "b212b7b7-60a1-4e24-98ed-709c6475d311",
   "metadata": {
    "editable": true,
    "slideshow": {
     "slide_type": ""
    },
    "tags": []
   },
   "source": [
    "(c) Use your boxplot to estimate the median."
   ]
  },
  {
   "cell_type": "markdown",
   "id": "03d969b7-d603-4044-a16a-90ab889793b6",
   "metadata": {
    "editable": true,
    "slideshow": {
     "slide_type": ""
    },
    "tags": []
   },
   "source": [
    "*Write your answer here. Double-click to edit.*"
   ]
  },
  {
   "cell_type": "markdown",
   "id": "3aebf28c-a405-4f9c-bde0-b99507d644d7",
   "metadata": {
    "editable": true,
    "slideshow": {
     "slide_type": ""
    },
    "tags": []
   },
   "source": [
    "(d) Use R to calculate the exact median."
   ]
  },
  {
   "cell_type": "code",
   "execution_count": null,
   "id": "a52bf66a-ebaa-4423-9f75-0ec0dd32b63a",
   "metadata": {
    "editable": true,
    "slideshow": {
     "slide_type": ""
    },
    "tags": []
   },
   "outputs": [],
   "source": []
  },
  {
   "cell_type": "markdown",
   "id": "5524dbf8-3b7d-4d33-b937-ab946adcb9cf",
   "metadata": {
    "editable": true,
    "slideshow": {
     "slide_type": ""
    },
    "tags": []
   },
   "source": [
    "(e) Use R to provide the five-number summary for the temperatures."
   ]
  },
  {
   "cell_type": "code",
   "execution_count": null,
   "id": "72e18205-1757-4f19-83e5-74be23aec1ef",
   "metadata": {
    "editable": true,
    "slideshow": {
     "slide_type": ""
    },
    "tags": []
   },
   "outputs": [],
   "source": []
  },
  {
   "cell_type": "markdown",
   "id": "564d35c0-51e9-4b78-a76d-979604368c92",
   "metadata": {
    "editable": true,
    "slideshow": {
     "slide_type": ""
    },
    "tags": []
   },
   "source": [
    "(f) Make a histogram of the temperatures."
   ]
  },
  {
   "cell_type": "code",
   "execution_count": null,
   "id": "8d3213ed-3d47-4037-86ed-01cc29e2fbb6",
   "metadata": {
    "editable": true,
    "slideshow": {
     "slide_type": ""
    },
    "tags": []
   },
   "outputs": [],
   "source": []
  },
  {
   "cell_type": "markdown",
   "id": "9bc5a582-fcb7-4cb3-9321-b3137b32fa4f",
   "metadata": {
    "editable": true,
    "slideshow": {
     "slide_type": ""
    },
    "tags": []
   },
   "source": [
    "### Problem 6"
   ]
  },
  {
   "cell_type": "markdown",
   "id": "427bf429-9e44-496e-9cd0-de6b21eb2bd3",
   "metadata": {
    "editable": true,
    "slideshow": {
     "slide_type": ""
    },
    "tags": []
   },
   "source": [
    "(a) If we were to randomly sample 50 values from $N(0, 1)$ and create a normal Q-Q plot, what should we see (approximately) in the plot?"
   ]
  },
  {
   "cell_type": "markdown",
   "id": "e65fa98e-ead4-4d6d-b108-e33b95d15739",
   "metadata": {
    "editable": true,
    "slideshow": {
     "slide_type": ""
    },
    "tags": []
   },
   "source": [
    "*Write your answer here. Double-click to edit.*"
   ]
  },
  {
   "cell_type": "markdown",
   "id": "f6b19bc1-d36f-4681-8887-67665f2571d7",
   "metadata": {
    "editable": true,
    "slideshow": {
     "slide_type": ""
    },
    "tags": []
   },
   "source": [
    "(b) The R code below generates 50 values from $N(0, 1)$ and makes the corresponding Q-Q plot. Run this code. "
   ]
  },
  {
   "cell_type": "code",
   "execution_count": null,
   "id": "c036c397-2706-4784-a90b-f20362f445a2",
   "metadata": {
    "editable": true,
    "slideshow": {
     "slide_type": ""
    },
    "tags": []
   },
   "outputs": [],
   "source": [
    "x <- rnorm(50, mean = 0, sd = 1)\n",
    "qqnorm(x)"
   ]
  },
  {
   "cell_type": "markdown",
   "id": "2b0cd04d-88f5-4c31-bec6-30ab3d8ac40e",
   "metadata": {
    "editable": true,
    "slideshow": {
     "slide_type": ""
    },
    "tags": []
   },
   "source": [
    "(c) Run the code in part (b) several times.\n",
    "We know the data comes from $N(0, 1)$, so these are all examples of what a Q-Q plot may look like when the data truly comes from a normal distribution."
   ]
  },
  {
   "cell_type": "markdown",
   "id": "13119262-e5b7-4bab-ae55-6aaa8093a3c7",
   "metadata": {
    "editable": true,
    "slideshow": {
     "slide_type": ""
    },
    "tags": []
   },
   "source": [
    "(d) The R code below generates 50 values from an Exponential distribution with parameter $\\lambda = 0.1$ and creates the corresponding normal Q-Q plot.\n",
    "Run this code. What shape do you see in the Q-Q plot? This is an example of a Q-Q plot when the data truly does not come from a normal distribution."
   ]
  },
  {
   "cell_type": "code",
   "execution_count": null,
   "id": "d7fb1cef-c4cc-42ac-9a8d-3adf0405e12c",
   "metadata": {
    "editable": true,
    "slideshow": {
     "slide_type": ""
    },
    "tags": []
   },
   "outputs": [],
   "source": [
    "y <- rexp(50, 0.1)\n",
    "qqnorm(y)"
   ]
  },
  {
   "cell_type": "markdown",
   "id": "7c5417df-bd03-4a32-a821-e37e9a316497",
   "metadata": {
    "editable": true,
    "slideshow": {
     "slide_type": ""
    },
    "tags": []
   },
   "source": [
    "*Write your answer here. Double-click to edit.*"
   ]
  }
 ],
 "metadata": {
  "kernelspec": {
   "display_name": "R",
   "language": "R",
   "name": "ir"
  },
  "language_info": {
   "codemirror_mode": "r",
   "file_extension": ".r",
   "mimetype": "text/x-r-source",
   "name": "R",
   "pygments_lexer": "r",
   "version": "4.2.2"
  }
 },
 "nbformat": 4,
 "nbformat_minor": 5
}
